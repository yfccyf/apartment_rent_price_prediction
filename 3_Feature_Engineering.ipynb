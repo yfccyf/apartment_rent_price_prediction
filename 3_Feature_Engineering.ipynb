{
 "cells": [
  {
   "cell_type": "code",
   "execution_count": 1,
   "metadata": {},
   "outputs": [],
   "source": [
    "import pandas as pd\n",
    "import numpy as np\n",
    "import matplotlib.pyplot as plt\n",
    "import seaborn as sns"
   ]
  },
  {
   "cell_type": "code",
   "execution_count": 1523,
   "metadata": {},
   "outputs": [],
   "source": [
    "pd.set_option('display.max_rows', None)"
   ]
  },
  {
   "cell_type": "code",
   "execution_count": 2,
   "metadata": {},
   "outputs": [],
   "source": [
    "import warnings\n",
    "warnings.filterwarnings(\"ignore\")"
   ]
  },
  {
   "cell_type": "code",
   "execution_count": 3,
   "metadata": {},
   "outputs": [],
   "source": [
    "df = pd.read_csv('df_trimmed_outliers.csv')"
   ]
  },
  {
   "cell_type": "code",
   "execution_count": 4,
   "metadata": {},
   "outputs": [
    {
     "data": {
      "text/html": [
       "<div>\n",
       "<style scoped>\n",
       "    .dataframe tbody tr th:only-of-type {\n",
       "        vertical-align: middle;\n",
       "    }\n",
       "\n",
       "    .dataframe tbody tr th {\n",
       "        vertical-align: top;\n",
       "    }\n",
       "\n",
       "    .dataframe thead th {\n",
       "        text-align: right;\n",
       "    }\n",
       "</style>\n",
       "<table border=\"1\" class=\"dataframe\">\n",
       "  <thead>\n",
       "    <tr style=\"text-align: right;\">\n",
       "      <th></th>\n",
       "      <th>city</th>\n",
       "      <th>state</th>\n",
       "      <th>zipcode</th>\n",
       "      <th>bathrooms</th>\n",
       "      <th>bedrooms</th>\n",
       "      <th>area</th>\n",
       "      <th>year</th>\n",
       "      <th>price</th>\n",
       "    </tr>\n",
       "  </thead>\n",
       "  <tbody>\n",
       "    <tr>\n",
       "      <th>0</th>\n",
       "      <td>Dallas</td>\n",
       "      <td>TX</td>\n",
       "      <td>75240</td>\n",
       "      <td>2.0</td>\n",
       "      <td>3.0</td>\n",
       "      <td>1494.0</td>\n",
       "      <td>1969.0</td>\n",
       "      <td>1995</td>\n",
       "    </tr>\n",
       "    <tr>\n",
       "      <th>1</th>\n",
       "      <td>Dallas</td>\n",
       "      <td>TX</td>\n",
       "      <td>75229</td>\n",
       "      <td>3.0</td>\n",
       "      <td>3.0</td>\n",
       "      <td>1547.0</td>\n",
       "      <td>NaN</td>\n",
       "      <td>1695</td>\n",
       "    </tr>\n",
       "    <tr>\n",
       "      <th>2</th>\n",
       "      <td>Dallas</td>\n",
       "      <td>TX</td>\n",
       "      <td>75229</td>\n",
       "      <td>2.0</td>\n",
       "      <td>3.0</td>\n",
       "      <td>1710.0</td>\n",
       "      <td>1958.0</td>\n",
       "      <td>2100</td>\n",
       "    </tr>\n",
       "    <tr>\n",
       "      <th>3</th>\n",
       "      <td>Dallas</td>\n",
       "      <td>TX</td>\n",
       "      <td>75219</td>\n",
       "      <td>1.0</td>\n",
       "      <td>1.0</td>\n",
       "      <td>655.0</td>\n",
       "      <td>1981.0</td>\n",
       "      <td>1095</td>\n",
       "    </tr>\n",
       "    <tr>\n",
       "      <th>4</th>\n",
       "      <td>Dallas</td>\n",
       "      <td>TX</td>\n",
       "      <td>75229</td>\n",
       "      <td>2.0</td>\n",
       "      <td>3.0</td>\n",
       "      <td>2556.0</td>\n",
       "      <td>1958.0</td>\n",
       "      <td>3450</td>\n",
       "    </tr>\n",
       "    <tr>\n",
       "      <th>...</th>\n",
       "      <td>...</td>\n",
       "      <td>...</td>\n",
       "      <td>...</td>\n",
       "      <td>...</td>\n",
       "      <td>...</td>\n",
       "      <td>...</td>\n",
       "      <td>...</td>\n",
       "      <td>...</td>\n",
       "    </tr>\n",
       "    <tr>\n",
       "      <th>1902</th>\n",
       "      <td>Los Angeles</td>\n",
       "      <td>CA</td>\n",
       "      <td>91411</td>\n",
       "      <td>2.0</td>\n",
       "      <td>3.0</td>\n",
       "      <td>1502.0</td>\n",
       "      <td>1949.0</td>\n",
       "      <td>4700</td>\n",
       "    </tr>\n",
       "    <tr>\n",
       "      <th>1903</th>\n",
       "      <td>Los Angeles</td>\n",
       "      <td>CA</td>\n",
       "      <td>90011</td>\n",
       "      <td>1.0</td>\n",
       "      <td>2.0</td>\n",
       "      <td>700.0</td>\n",
       "      <td>1935.0</td>\n",
       "      <td>2150</td>\n",
       "    </tr>\n",
       "    <tr>\n",
       "      <th>1904</th>\n",
       "      <td>Los Angeles</td>\n",
       "      <td>CA</td>\n",
       "      <td>90731</td>\n",
       "      <td>1.0</td>\n",
       "      <td>2.0</td>\n",
       "      <td>850.0</td>\n",
       "      <td>NaN</td>\n",
       "      <td>2150</td>\n",
       "    </tr>\n",
       "    <tr>\n",
       "      <th>1905</th>\n",
       "      <td>Los Angeles</td>\n",
       "      <td>CA</td>\n",
       "      <td>91316</td>\n",
       "      <td>3.0</td>\n",
       "      <td>2.0</td>\n",
       "      <td>1564.0</td>\n",
       "      <td>1989.0</td>\n",
       "      <td>4200</td>\n",
       "    </tr>\n",
       "    <tr>\n",
       "      <th>1906</th>\n",
       "      <td>Los Angeles</td>\n",
       "      <td>CA</td>\n",
       "      <td>90011</td>\n",
       "      <td>1.0</td>\n",
       "      <td>2.0</td>\n",
       "      <td>800.0</td>\n",
       "      <td>1980.0</td>\n",
       "      <td>2000</td>\n",
       "    </tr>\n",
       "  </tbody>\n",
       "</table>\n",
       "<p>1907 rows × 8 columns</p>\n",
       "</div>"
      ],
      "text/plain": [
       "             city state  zipcode  bathrooms  bedrooms    area    year  price\n",
       "0          Dallas    TX    75240        2.0       3.0  1494.0  1969.0   1995\n",
       "1          Dallas    TX    75229        3.0       3.0  1547.0     NaN   1695\n",
       "2          Dallas    TX    75229        2.0       3.0  1710.0  1958.0   2100\n",
       "3          Dallas    TX    75219        1.0       1.0   655.0  1981.0   1095\n",
       "4          Dallas    TX    75229        2.0       3.0  2556.0  1958.0   3450\n",
       "...           ...   ...      ...        ...       ...     ...     ...    ...\n",
       "1902  Los Angeles    CA    91411        2.0       3.0  1502.0  1949.0   4700\n",
       "1903  Los Angeles    CA    90011        1.0       2.0   700.0  1935.0   2150\n",
       "1904  Los Angeles    CA    90731        1.0       2.0   850.0     NaN   2150\n",
       "1905  Los Angeles    CA    91316        3.0       2.0  1564.0  1989.0   4200\n",
       "1906  Los Angeles    CA    90011        1.0       2.0   800.0  1980.0   2000\n",
       "\n",
       "[1907 rows x 8 columns]"
      ]
     },
     "execution_count": 4,
     "metadata": {},
     "output_type": "execute_result"
    }
   ],
   "source": [
    "df"
   ]
  },
  {
   "cell_type": "code",
   "execution_count": 5,
   "metadata": {
    "scrolled": true
   },
   "outputs": [
    {
     "name": "stdout",
     "output_type": "stream",
     "text": [
      "<class 'pandas.core.frame.DataFrame'>\n",
      "RangeIndex: 1907 entries, 0 to 1906\n",
      "Data columns (total 8 columns):\n",
      " #   Column     Non-Null Count  Dtype  \n",
      "---  ------     --------------  -----  \n",
      " 0   city       1907 non-null   object \n",
      " 1   state      1907 non-null   object \n",
      " 2   zipcode    1907 non-null   int64  \n",
      " 3   bathrooms  1905 non-null   float64\n",
      " 4   bedrooms   1791 non-null   float64\n",
      " 5   area       1686 non-null   float64\n",
      " 6   year       1145 non-null   float64\n",
      " 7   price      1907 non-null   int64  \n",
      "dtypes: float64(4), int64(2), object(2)\n",
      "memory usage: 119.3+ KB\n"
     ]
    }
   ],
   "source": [
    "df.info()"
   ]
  },
  {
   "cell_type": "code",
   "execution_count": 6,
   "metadata": {},
   "outputs": [],
   "source": [
    "df['zipcode'] = df['zipcode'].astype(str)"
   ]
  },
  {
   "cell_type": "code",
   "execution_count": 7,
   "metadata": {},
   "outputs": [
    {
     "name": "stdout",
     "output_type": "stream",
     "text": [
      "<class 'pandas.core.frame.DataFrame'>\n",
      "RangeIndex: 1907 entries, 0 to 1906\n",
      "Data columns (total 8 columns):\n",
      " #   Column     Non-Null Count  Dtype  \n",
      "---  ------     --------------  -----  \n",
      " 0   city       1907 non-null   object \n",
      " 1   state      1907 non-null   object \n",
      " 2   zipcode    1907 non-null   object \n",
      " 3   bathrooms  1905 non-null   float64\n",
      " 4   bedrooms   1791 non-null   float64\n",
      " 5   area       1686 non-null   float64\n",
      " 6   year       1145 non-null   float64\n",
      " 7   price      1907 non-null   int64  \n",
      "dtypes: float64(4), int64(1), object(3)\n",
      "memory usage: 119.3+ KB\n"
     ]
    }
   ],
   "source": [
    "df.info()"
   ]
  },
  {
   "cell_type": "code",
   "execution_count": 8,
   "metadata": {},
   "outputs": [],
   "source": [
    "# tranform \"year\" to \"how long till now\"\n",
    "df['year'] = df['year'].apply(lambda x: 2021-x)"
   ]
  },
  {
   "cell_type": "code",
   "execution_count": 9,
   "metadata": {},
   "outputs": [
    {
     "data": {
      "text/html": [
       "<div>\n",
       "<style scoped>\n",
       "    .dataframe tbody tr th:only-of-type {\n",
       "        vertical-align: middle;\n",
       "    }\n",
       "\n",
       "    .dataframe tbody tr th {\n",
       "        vertical-align: top;\n",
       "    }\n",
       "\n",
       "    .dataframe thead th {\n",
       "        text-align: right;\n",
       "    }\n",
       "</style>\n",
       "<table border=\"1\" class=\"dataframe\">\n",
       "  <thead>\n",
       "    <tr style=\"text-align: right;\">\n",
       "      <th></th>\n",
       "      <th>city</th>\n",
       "      <th>state</th>\n",
       "      <th>zipcode</th>\n",
       "      <th>bathrooms</th>\n",
       "      <th>bedrooms</th>\n",
       "      <th>area</th>\n",
       "      <th>year</th>\n",
       "      <th>price</th>\n",
       "    </tr>\n",
       "  </thead>\n",
       "  <tbody>\n",
       "    <tr>\n",
       "      <th>0</th>\n",
       "      <td>Dallas</td>\n",
       "      <td>TX</td>\n",
       "      <td>75240</td>\n",
       "      <td>2.0</td>\n",
       "      <td>3.0</td>\n",
       "      <td>1494.0</td>\n",
       "      <td>52.0</td>\n",
       "      <td>1995</td>\n",
       "    </tr>\n",
       "    <tr>\n",
       "      <th>1</th>\n",
       "      <td>Dallas</td>\n",
       "      <td>TX</td>\n",
       "      <td>75229</td>\n",
       "      <td>3.0</td>\n",
       "      <td>3.0</td>\n",
       "      <td>1547.0</td>\n",
       "      <td>NaN</td>\n",
       "      <td>1695</td>\n",
       "    </tr>\n",
       "    <tr>\n",
       "      <th>2</th>\n",
       "      <td>Dallas</td>\n",
       "      <td>TX</td>\n",
       "      <td>75229</td>\n",
       "      <td>2.0</td>\n",
       "      <td>3.0</td>\n",
       "      <td>1710.0</td>\n",
       "      <td>63.0</td>\n",
       "      <td>2100</td>\n",
       "    </tr>\n",
       "    <tr>\n",
       "      <th>3</th>\n",
       "      <td>Dallas</td>\n",
       "      <td>TX</td>\n",
       "      <td>75219</td>\n",
       "      <td>1.0</td>\n",
       "      <td>1.0</td>\n",
       "      <td>655.0</td>\n",
       "      <td>40.0</td>\n",
       "      <td>1095</td>\n",
       "    </tr>\n",
       "    <tr>\n",
       "      <th>4</th>\n",
       "      <td>Dallas</td>\n",
       "      <td>TX</td>\n",
       "      <td>75229</td>\n",
       "      <td>2.0</td>\n",
       "      <td>3.0</td>\n",
       "      <td>2556.0</td>\n",
       "      <td>63.0</td>\n",
       "      <td>3450</td>\n",
       "    </tr>\n",
       "    <tr>\n",
       "      <th>...</th>\n",
       "      <td>...</td>\n",
       "      <td>...</td>\n",
       "      <td>...</td>\n",
       "      <td>...</td>\n",
       "      <td>...</td>\n",
       "      <td>...</td>\n",
       "      <td>...</td>\n",
       "      <td>...</td>\n",
       "    </tr>\n",
       "    <tr>\n",
       "      <th>1902</th>\n",
       "      <td>Los Angeles</td>\n",
       "      <td>CA</td>\n",
       "      <td>91411</td>\n",
       "      <td>2.0</td>\n",
       "      <td>3.0</td>\n",
       "      <td>1502.0</td>\n",
       "      <td>72.0</td>\n",
       "      <td>4700</td>\n",
       "    </tr>\n",
       "    <tr>\n",
       "      <th>1903</th>\n",
       "      <td>Los Angeles</td>\n",
       "      <td>CA</td>\n",
       "      <td>90011</td>\n",
       "      <td>1.0</td>\n",
       "      <td>2.0</td>\n",
       "      <td>700.0</td>\n",
       "      <td>86.0</td>\n",
       "      <td>2150</td>\n",
       "    </tr>\n",
       "    <tr>\n",
       "      <th>1904</th>\n",
       "      <td>Los Angeles</td>\n",
       "      <td>CA</td>\n",
       "      <td>90731</td>\n",
       "      <td>1.0</td>\n",
       "      <td>2.0</td>\n",
       "      <td>850.0</td>\n",
       "      <td>NaN</td>\n",
       "      <td>2150</td>\n",
       "    </tr>\n",
       "    <tr>\n",
       "      <th>1905</th>\n",
       "      <td>Los Angeles</td>\n",
       "      <td>CA</td>\n",
       "      <td>91316</td>\n",
       "      <td>3.0</td>\n",
       "      <td>2.0</td>\n",
       "      <td>1564.0</td>\n",
       "      <td>32.0</td>\n",
       "      <td>4200</td>\n",
       "    </tr>\n",
       "    <tr>\n",
       "      <th>1906</th>\n",
       "      <td>Los Angeles</td>\n",
       "      <td>CA</td>\n",
       "      <td>90011</td>\n",
       "      <td>1.0</td>\n",
       "      <td>2.0</td>\n",
       "      <td>800.0</td>\n",
       "      <td>41.0</td>\n",
       "      <td>2000</td>\n",
       "    </tr>\n",
       "  </tbody>\n",
       "</table>\n",
       "<p>1907 rows × 8 columns</p>\n",
       "</div>"
      ],
      "text/plain": [
       "             city state zipcode  bathrooms  bedrooms    area  year  price\n",
       "0          Dallas    TX   75240        2.0       3.0  1494.0  52.0   1995\n",
       "1          Dallas    TX   75229        3.0       3.0  1547.0   NaN   1695\n",
       "2          Dallas    TX   75229        2.0       3.0  1710.0  63.0   2100\n",
       "3          Dallas    TX   75219        1.0       1.0   655.0  40.0   1095\n",
       "4          Dallas    TX   75229        2.0       3.0  2556.0  63.0   3450\n",
       "...           ...   ...     ...        ...       ...     ...   ...    ...\n",
       "1902  Los Angeles    CA   91411        2.0       3.0  1502.0  72.0   4700\n",
       "1903  Los Angeles    CA   90011        1.0       2.0   700.0  86.0   2150\n",
       "1904  Los Angeles    CA   90731        1.0       2.0   850.0   NaN   2150\n",
       "1905  Los Angeles    CA   91316        3.0       2.0  1564.0  32.0   4200\n",
       "1906  Los Angeles    CA   90011        1.0       2.0   800.0  41.0   2000\n",
       "\n",
       "[1907 rows x 8 columns]"
      ]
     },
     "execution_count": 9,
     "metadata": {},
     "output_type": "execute_result"
    }
   ],
   "source": [
    "df"
   ]
  },
  {
   "cell_type": "code",
   "execution_count": 10,
   "metadata": {},
   "outputs": [],
   "source": [
    "# drop \"state\"\n",
    "df.drop(columns=['state'], inplace=True)"
   ]
  },
  {
   "cell_type": "code",
   "execution_count": 11,
   "metadata": {},
   "outputs": [
    {
     "data": {
      "text/html": [
       "<div>\n",
       "<style scoped>\n",
       "    .dataframe tbody tr th:only-of-type {\n",
       "        vertical-align: middle;\n",
       "    }\n",
       "\n",
       "    .dataframe tbody tr th {\n",
       "        vertical-align: top;\n",
       "    }\n",
       "\n",
       "    .dataframe thead th {\n",
       "        text-align: right;\n",
       "    }\n",
       "</style>\n",
       "<table border=\"1\" class=\"dataframe\">\n",
       "  <thead>\n",
       "    <tr style=\"text-align: right;\">\n",
       "      <th></th>\n",
       "      <th>city</th>\n",
       "      <th>zipcode</th>\n",
       "      <th>bathrooms</th>\n",
       "      <th>bedrooms</th>\n",
       "      <th>area</th>\n",
       "      <th>year</th>\n",
       "      <th>price</th>\n",
       "    </tr>\n",
       "  </thead>\n",
       "  <tbody>\n",
       "    <tr>\n",
       "      <th>0</th>\n",
       "      <td>Dallas</td>\n",
       "      <td>75240</td>\n",
       "      <td>2.0</td>\n",
       "      <td>3.0</td>\n",
       "      <td>1494.0</td>\n",
       "      <td>52.0</td>\n",
       "      <td>1995</td>\n",
       "    </tr>\n",
       "    <tr>\n",
       "      <th>1</th>\n",
       "      <td>Dallas</td>\n",
       "      <td>75229</td>\n",
       "      <td>3.0</td>\n",
       "      <td>3.0</td>\n",
       "      <td>1547.0</td>\n",
       "      <td>NaN</td>\n",
       "      <td>1695</td>\n",
       "    </tr>\n",
       "    <tr>\n",
       "      <th>2</th>\n",
       "      <td>Dallas</td>\n",
       "      <td>75229</td>\n",
       "      <td>2.0</td>\n",
       "      <td>3.0</td>\n",
       "      <td>1710.0</td>\n",
       "      <td>63.0</td>\n",
       "      <td>2100</td>\n",
       "    </tr>\n",
       "    <tr>\n",
       "      <th>3</th>\n",
       "      <td>Dallas</td>\n",
       "      <td>75219</td>\n",
       "      <td>1.0</td>\n",
       "      <td>1.0</td>\n",
       "      <td>655.0</td>\n",
       "      <td>40.0</td>\n",
       "      <td>1095</td>\n",
       "    </tr>\n",
       "    <tr>\n",
       "      <th>4</th>\n",
       "      <td>Dallas</td>\n",
       "      <td>75229</td>\n",
       "      <td>2.0</td>\n",
       "      <td>3.0</td>\n",
       "      <td>2556.0</td>\n",
       "      <td>63.0</td>\n",
       "      <td>3450</td>\n",
       "    </tr>\n",
       "    <tr>\n",
       "      <th>...</th>\n",
       "      <td>...</td>\n",
       "      <td>...</td>\n",
       "      <td>...</td>\n",
       "      <td>...</td>\n",
       "      <td>...</td>\n",
       "      <td>...</td>\n",
       "      <td>...</td>\n",
       "    </tr>\n",
       "    <tr>\n",
       "      <th>1902</th>\n",
       "      <td>Los Angeles</td>\n",
       "      <td>91411</td>\n",
       "      <td>2.0</td>\n",
       "      <td>3.0</td>\n",
       "      <td>1502.0</td>\n",
       "      <td>72.0</td>\n",
       "      <td>4700</td>\n",
       "    </tr>\n",
       "    <tr>\n",
       "      <th>1903</th>\n",
       "      <td>Los Angeles</td>\n",
       "      <td>90011</td>\n",
       "      <td>1.0</td>\n",
       "      <td>2.0</td>\n",
       "      <td>700.0</td>\n",
       "      <td>86.0</td>\n",
       "      <td>2150</td>\n",
       "    </tr>\n",
       "    <tr>\n",
       "      <th>1904</th>\n",
       "      <td>Los Angeles</td>\n",
       "      <td>90731</td>\n",
       "      <td>1.0</td>\n",
       "      <td>2.0</td>\n",
       "      <td>850.0</td>\n",
       "      <td>NaN</td>\n",
       "      <td>2150</td>\n",
       "    </tr>\n",
       "    <tr>\n",
       "      <th>1905</th>\n",
       "      <td>Los Angeles</td>\n",
       "      <td>91316</td>\n",
       "      <td>3.0</td>\n",
       "      <td>2.0</td>\n",
       "      <td>1564.0</td>\n",
       "      <td>32.0</td>\n",
       "      <td>4200</td>\n",
       "    </tr>\n",
       "    <tr>\n",
       "      <th>1906</th>\n",
       "      <td>Los Angeles</td>\n",
       "      <td>90011</td>\n",
       "      <td>1.0</td>\n",
       "      <td>2.0</td>\n",
       "      <td>800.0</td>\n",
       "      <td>41.0</td>\n",
       "      <td>2000</td>\n",
       "    </tr>\n",
       "  </tbody>\n",
       "</table>\n",
       "<p>1907 rows × 7 columns</p>\n",
       "</div>"
      ],
      "text/plain": [
       "             city zipcode  bathrooms  bedrooms    area  year  price\n",
       "0          Dallas   75240        2.0       3.0  1494.0  52.0   1995\n",
       "1          Dallas   75229        3.0       3.0  1547.0   NaN   1695\n",
       "2          Dallas   75229        2.0       3.0  1710.0  63.0   2100\n",
       "3          Dallas   75219        1.0       1.0   655.0  40.0   1095\n",
       "4          Dallas   75229        2.0       3.0  2556.0  63.0   3450\n",
       "...           ...     ...        ...       ...     ...   ...    ...\n",
       "1902  Los Angeles   91411        2.0       3.0  1502.0  72.0   4700\n",
       "1903  Los Angeles   90011        1.0       2.0   700.0  86.0   2150\n",
       "1904  Los Angeles   90731        1.0       2.0   850.0   NaN   2150\n",
       "1905  Los Angeles   91316        3.0       2.0  1564.0  32.0   4200\n",
       "1906  Los Angeles   90011        1.0       2.0   800.0  41.0   2000\n",
       "\n",
       "[1907 rows x 7 columns]"
      ]
     },
     "execution_count": 11,
     "metadata": {},
     "output_type": "execute_result"
    }
   ],
   "source": [
    "df"
   ]
  },
  {
   "cell_type": "markdown",
   "metadata": {},
   "source": [
    "### grouping rare zipcodes"
   ]
  },
  {
   "cell_type": "code",
   "execution_count": 12,
   "metadata": {},
   "outputs": [
    {
     "name": "stdout",
     "output_type": "stream",
     "text": [
      "variable:  zipcode  number of labels:  132\n"
     ]
    }
   ],
   "source": [
    "# check the number of labels in \"zipcode\"\n",
    "for col in ['zipcode']:\n",
    "    print('variable: ', col, ' number of labels: ', df[col].nunique())"
   ]
  },
  {
   "cell_type": "code",
   "execution_count": 13,
   "metadata": {},
   "outputs": [
    {
     "data": {
      "image/png": "[encoded data removed]",
      "text/plain": [
       "<Figure size 432x288 with 1 Axes>"
      ]
     },
     "metadata": {
      "needs_background": "light"
     },
     "output_type": "display_data"
    },
    {
     "data": {
      "text/plain": [
       "<Figure size 1440x720 with 0 Axes>"
      ]
     },
     "metadata": {},
     "output_type": "display_data"
    }
   ],
   "source": [
    "# plot how frequentfly each label appears in the dataset\n",
    "# (the percentage of each label in the data)\n",
    "\n",
    "total_number = len(df)\n",
    "\n",
    "for col in ['zipcode']:\n",
    "    \n",
    "    temp_df = pd.Series(df[col].value_counts()/total_number)\n",
    "    \n",
    "    fig = temp_df.sort_values(ascending=False).plot.bar()\n",
    "    fig.set_xlabel(col)\n",
    "    \n",
    "    fig.set_ylabel('Percentage of labels')\n",
    "    plt.figure(figsize=[20, 10])\n",
    "    plt.show()"
   ]
  },
  {
   "cell_type": "code",
   "execution_count": 14,
   "metadata": {},
   "outputs": [],
   "source": [
    "# how is the target, \"price\" related to these categories?\n",
    "\n",
    "def calculate_mean_target_per_category(df, var):\n",
    "    \n",
    "    # total number of labels\n",
    "    total_number = len(df)\n",
    "    \n",
    "    # percentage of labels\n",
    "    temp_df = pd.Series(df[var].value_counts()/total_number).reset_index()\n",
    "    temp_df.columns = [var, 'perc']\n",
    "    \n",
    "    # add the mean price\n",
    "    temp_df = temp_df.merge(df.groupby([var])['price'].mean().reset_index(), on=var, how='left')\n",
    "    \n",
    "    return temp_df"
   ]
  },
  {
   "cell_type": "code",
   "execution_count": 15,
   "metadata": {},
   "outputs": [
    {
     "data": {
      "text/html": [
       "<div>\n",
       "<style scoped>\n",
       "    .dataframe tbody tr th:only-of-type {\n",
       "        vertical-align: middle;\n",
       "    }\n",
       "\n",
       "    .dataframe tbody tr th {\n",
       "        vertical-align: top;\n",
       "    }\n",
       "\n",
       "    .dataframe thead th {\n",
       "        text-align: right;\n",
       "    }\n",
       "</style>\n",
       "<table border=\"1\" class=\"dataframe\">\n",
       "  <thead>\n",
       "    <tr style=\"text-align: right;\">\n",
       "      <th></th>\n",
       "      <th>zipcode</th>\n",
       "      <th>perc</th>\n",
       "      <th>price</th>\n",
       "    </tr>\n",
       "  </thead>\n",
       "  <tbody>\n",
       "    <tr>\n",
       "      <th>0</th>\n",
       "      <td>94117</td>\n",
       "      <td>0.068694</td>\n",
       "      <td>3602.229008</td>\n",
       "    </tr>\n",
       "    <tr>\n",
       "      <th>1</th>\n",
       "      <td>94122</td>\n",
       "      <td>0.057682</td>\n",
       "      <td>3237.900000</td>\n",
       "    </tr>\n",
       "    <tr>\n",
       "      <th>2</th>\n",
       "      <td>98116</td>\n",
       "      <td>0.044573</td>\n",
       "      <td>2369.294118</td>\n",
       "    </tr>\n",
       "    <tr>\n",
       "      <th>3</th>\n",
       "      <td>94114</td>\n",
       "      <td>0.038280</td>\n",
       "      <td>3475.547945</td>\n",
       "    </tr>\n",
       "    <tr>\n",
       "      <th>4</th>\n",
       "      <td>98144</td>\n",
       "      <td>0.037756</td>\n",
       "      <td>2184.902778</td>\n",
       "    </tr>\n",
       "    <tr>\n",
       "      <th>...</th>\n",
       "      <td>...</td>\n",
       "      <td>...</td>\n",
       "      <td>...</td>\n",
       "    </tr>\n",
       "    <tr>\n",
       "      <th>127</th>\n",
       "      <td>75234</td>\n",
       "      <td>0.000524</td>\n",
       "      <td>850.000000</td>\n",
       "    </tr>\n",
       "    <tr>\n",
       "      <th>128</th>\n",
       "      <td>75051</td>\n",
       "      <td>0.000524</td>\n",
       "      <td>1800.000000</td>\n",
       "    </tr>\n",
       "    <tr>\n",
       "      <th>129</th>\n",
       "      <td>75202</td>\n",
       "      <td>0.000524</td>\n",
       "      <td>4987.000000</td>\n",
       "    </tr>\n",
       "    <tr>\n",
       "      <th>130</th>\n",
       "      <td>90077</td>\n",
       "      <td>0.000524</td>\n",
       "      <td>6700.000000</td>\n",
       "    </tr>\n",
       "    <tr>\n",
       "      <th>131</th>\n",
       "      <td>75226</td>\n",
       "      <td>0.000524</td>\n",
       "      <td>2800.000000</td>\n",
       "    </tr>\n",
       "  </tbody>\n",
       "</table>\n",
       "<p>132 rows × 3 columns</p>\n",
       "</div>"
      ],
      "text/plain": [
       "    zipcode      perc        price\n",
       "0     94117  0.068694  3602.229008\n",
       "1     94122  0.057682  3237.900000\n",
       "2     98116  0.044573  2369.294118\n",
       "3     94114  0.038280  3475.547945\n",
       "4     98144  0.037756  2184.902778\n",
       "..      ...       ...          ...\n",
       "127   75234  0.000524   850.000000\n",
       "128   75051  0.000524  1800.000000\n",
       "129   75202  0.000524  4987.000000\n",
       "130   90077  0.000524  6700.000000\n",
       "131   75226  0.000524  2800.000000\n",
       "\n",
       "[132 rows x 3 columns]"
      ]
     },
     "execution_count": 15,
     "metadata": {},
     "output_type": "execute_result"
    }
   ],
   "source": [
    "temp_df = calculate_mean_target_per_category(df, 'zipcode')\n",
    "temp_df"
   ]
  },
  {
   "cell_type": "code",
   "execution_count": 16,
   "metadata": {},
   "outputs": [
    {
     "data": {
      "text/plain": [
       "<matplotlib.axes._subplots.AxesSubplot at 0x28570351828>"
      ]
     },
     "execution_count": 16,
     "metadata": {},
     "output_type": "execute_result"
    },
    {
     "data": {
      "image/png": "[encoded data removed]",
      "text/plain": [
       "<Figure size 432x288 with 1 Axes>"
      ]
     },
     "metadata": {
      "needs_background": "light"
     },
     "output_type": "display_data"
    }
   ],
   "source": [
    "sns.scatterplot(x='perc', y='price', data=temp_df)"
   ]
  },
  {
   "cell_type": "code",
   "execution_count": 17,
   "metadata": {},
   "outputs": [],
   "source": [
    "# rare labels: grouping under a new label\n",
    "\n",
    "def group_rare_labels(df, var):\n",
    "    \n",
    "    total_number = len(df)\n",
    "    \n",
    "    # first calcualte the % of each label\n",
    "    temp_df = pd.Series(df[var].value_counts()/total_number)\n",
    "    \n",
    "    # create a dictionary to replace the rare labels with the string\n",
    "    # \"others\" if they are present in less than 2%\n",
    "    \n",
    "    grouping_dict = {\n",
    "        k: ('others' if k not in temp_df[temp_df >= 0.02].index else k)\n",
    "        for k in temp_df.index\n",
    "    }\n",
    "    \n",
    "    # now replace the rare categories\n",
    "    tmp = df[var].map(grouping_dict)\n",
    "    \n",
    "    return tmp"
   ]
  },
  {
   "cell_type": "code",
   "execution_count": 18,
   "metadata": {},
   "outputs": [
    {
     "data": {
      "text/plain": [
       "0    others\n",
       "1    others\n",
       "2    others\n",
       "3    others\n",
       "4    others\n",
       "5     75206\n",
       "6    others\n",
       "7    others\n",
       "8     75206\n",
       "9    others\n",
       "Name: zipcode, dtype: object"
      ]
     },
     "execution_count": 18,
     "metadata": {},
     "output_type": "execute_result"
    }
   ],
   "source": [
    "# group rare labels in \"zipcode\"\n",
    "\n",
    "df['zipcode'] = group_rare_labels(df, 'zipcode')\n",
    "\n",
    "df['zipcode'].head(10)"
   ]
  },
  {
   "cell_type": "code",
   "execution_count": 19,
   "metadata": {},
   "outputs": [
    {
     "data": {
      "text/html": [
       "<div>\n",
       "<style scoped>\n",
       "    .dataframe tbody tr th:only-of-type {\n",
       "        vertical-align: middle;\n",
       "    }\n",
       "\n",
       "    .dataframe tbody tr th {\n",
       "        vertical-align: top;\n",
       "    }\n",
       "\n",
       "    .dataframe thead th {\n",
       "        text-align: right;\n",
       "    }\n",
       "</style>\n",
       "<table border=\"1\" class=\"dataframe\">\n",
       "  <thead>\n",
       "    <tr style=\"text-align: right;\">\n",
       "      <th></th>\n",
       "      <th>zipcode</th>\n",
       "      <th>perc</th>\n",
       "      <th>price</th>\n",
       "    </tr>\n",
       "  </thead>\n",
       "  <tbody>\n",
       "    <tr>\n",
       "      <th>0</th>\n",
       "      <td>others</td>\n",
       "      <td>0.625066</td>\n",
       "      <td>2378.831376</td>\n",
       "    </tr>\n",
       "    <tr>\n",
       "      <th>1</th>\n",
       "      <td>94117</td>\n",
       "      <td>0.068694</td>\n",
       "      <td>3602.229008</td>\n",
       "    </tr>\n",
       "    <tr>\n",
       "      <th>2</th>\n",
       "      <td>94122</td>\n",
       "      <td>0.057682</td>\n",
       "      <td>3237.900000</td>\n",
       "    </tr>\n",
       "    <tr>\n",
       "      <th>3</th>\n",
       "      <td>98116</td>\n",
       "      <td>0.044573</td>\n",
       "      <td>2369.294118</td>\n",
       "    </tr>\n",
       "    <tr>\n",
       "      <th>4</th>\n",
       "      <td>94114</td>\n",
       "      <td>0.038280</td>\n",
       "      <td>3475.547945</td>\n",
       "    </tr>\n",
       "    <tr>\n",
       "      <th>5</th>\n",
       "      <td>98144</td>\n",
       "      <td>0.037756</td>\n",
       "      <td>2184.902778</td>\n",
       "    </tr>\n",
       "    <tr>\n",
       "      <th>6</th>\n",
       "      <td>98122</td>\n",
       "      <td>0.033036</td>\n",
       "      <td>2378.412698</td>\n",
       "    </tr>\n",
       "    <tr>\n",
       "      <th>7</th>\n",
       "      <td>75206</td>\n",
       "      <td>0.029890</td>\n",
       "      <td>2051.210526</td>\n",
       "    </tr>\n",
       "    <tr>\n",
       "      <th>8</th>\n",
       "      <td>94116</td>\n",
       "      <td>0.022549</td>\n",
       "      <td>3271.674419</td>\n",
       "    </tr>\n",
       "    <tr>\n",
       "      <th>9</th>\n",
       "      <td>98118</td>\n",
       "      <td>0.022024</td>\n",
       "      <td>2225.952381</td>\n",
       "    </tr>\n",
       "    <tr>\n",
       "      <th>10</th>\n",
       "      <td>90731</td>\n",
       "      <td>0.020451</td>\n",
       "      <td>2175.076923</td>\n",
       "    </tr>\n",
       "  </tbody>\n",
       "</table>\n",
       "</div>"
      ],
      "text/plain": [
       "   zipcode      perc        price\n",
       "0   others  0.625066  2378.831376\n",
       "1    94117  0.068694  3602.229008\n",
       "2    94122  0.057682  3237.900000\n",
       "3    98116  0.044573  2369.294118\n",
       "4    94114  0.038280  3475.547945\n",
       "5    98144  0.037756  2184.902778\n",
       "6    98122  0.033036  2378.412698\n",
       "7    75206  0.029890  2051.210526\n",
       "8    94116  0.022549  3271.674419\n",
       "9    98118  0.022024  2225.952381\n",
       "10   90731  0.020451  2175.076923"
      ]
     },
     "execution_count": 19,
     "metadata": {},
     "output_type": "execute_result"
    }
   ],
   "source": [
    "temp_df = calculate_mean_target_per_category(df, 'zipcode')\n",
    "temp_df"
   ]
  },
  {
   "cell_type": "code",
   "execution_count": 20,
   "metadata": {},
   "outputs": [
    {
     "data": {
      "text/plain": [
       "<matplotlib.axes._subplots.AxesSubplot at 0x28570341da0>"
      ]
     },
     "execution_count": 20,
     "metadata": {},
     "output_type": "execute_result"
    },
    {
     "data": {
      "image/png": "[encoded data removed]",
      "text/plain": [
       "<Figure size 432x288 with 1 Axes>"
      ]
     },
     "metadata": {
      "needs_background": "light"
     },
     "output_type": "display_data"
    }
   ],
   "source": [
    "# plot again\n",
    "sns.scatterplot(x='perc', y='price', data=temp_df)\n",
    "# great results: high freq labels show linear relationship while the rest appraoches median"
   ]
  },
  {
   "cell_type": "code",
   "execution_count": 21,
   "metadata": {},
   "outputs": [
    {
     "data": {
      "text/plain": [
       "(0.0, 0.1)"
      ]
     },
     "execution_count": 21,
     "metadata": {},
     "output_type": "execute_result"
    },
    {
     "data": {
      "image/png": "[encoded data removed]",
      "text/plain": [
       "<Figure size 432x288 with 1 Axes>"
      ]
     },
     "metadata": {
      "needs_background": "light"
     },
     "output_type": "display_data"
    }
   ],
   "source": [
    "# zoom in only high freq labels\n",
    "ax = sns.scatterplot(x='perc', y='price', data=temp_df)\n",
    "ax.set_xlim(0, 0.1)"
   ]
  },
  {
   "cell_type": "markdown",
   "metadata": {},
   "source": [
    "### Select predictors and target"
   ]
  },
  {
   "cell_type": "code",
   "execution_count": 22,
   "metadata": {},
   "outputs": [],
   "source": [
    "# X = df.iloc[:, :-1].values\n",
    "# y = df.iloc[:, -1].values"
   ]
  },
  {
   "cell_type": "code",
   "execution_count": 23,
   "metadata": {},
   "outputs": [],
   "source": [
    "# print(X)"
   ]
  },
  {
   "cell_type": "code",
   "execution_count": 24,
   "metadata": {},
   "outputs": [],
   "source": [
    "# print(y)"
   ]
  },
  {
   "cell_type": "markdown",
   "metadata": {},
   "source": [
    "### Train test split"
   ]
  },
  {
   "cell_type": "code",
   "execution_count": 25,
   "metadata": {},
   "outputs": [
    {
     "data": {
      "text/plain": [
       "((1525, 7), (382, 7), (1525,), (382,))"
      ]
     },
     "execution_count": 25,
     "metadata": {},
     "output_type": "execute_result"
    }
   ],
   "source": [
    "from sklearn.model_selection import train_test_split\n",
    "X_train, X_test, y_train, y_test = train_test_split(df.iloc[:, :], df.iloc[:, -1], test_size=0.2, random_state=0)\n",
    "X_train.shape, X_test.shape, y_train.shape, y_test.shape"
   ]
  },
  {
   "cell_type": "code",
   "execution_count": 26,
   "metadata": {},
   "outputs": [],
   "source": [
    "# so far, the outliers have already been engineered"
   ]
  },
  {
   "cell_type": "markdown",
   "metadata": {},
   "source": [
    "# Feature Engineering Attack Plan"
   ]
  },
  {
   "cell_type": "code",
   "execution_count": 27,
   "metadata": {},
   "outputs": [],
   "source": [
    "# attack plan:\n",
    "# missing values\n",
    "\n",
    "\n",
    "# variable by variable:\n",
    "# city: target_guided encoding by median price\n",
    "# zipcode: target_guided encoding by median price\n",
    "\n",
    "\n",
    "# feature scaling"
   ]
  },
  {
   "cell_type": "markdown",
   "metadata": {},
   "source": [
    "### Missing values"
   ]
  },
  {
   "cell_type": "code",
   "execution_count": 28,
   "metadata": {},
   "outputs": [
    {
     "data": {
      "text/plain": [
       "city           0\n",
       "zipcode        0\n",
       "bathrooms      2\n",
       "bedrooms     116\n",
       "area         221\n",
       "year         762\n",
       "price          0\n",
       "dtype: int64"
      ]
     },
     "execution_count": 28,
     "metadata": {},
     "output_type": "execute_result"
    }
   ],
   "source": [
    "df.isnull().sum()"
   ]
  },
  {
   "cell_type": "code",
   "execution_count": 29,
   "metadata": {},
   "outputs": [
    {
     "data": {
      "text/plain": [
       "<matplotlib.axes._subplots.AxesSubplot at 0x28572ef82b0>"
      ]
     },
     "execution_count": 29,
     "metadata": {},
     "output_type": "execute_result"
    },
    {
     "data": {
      "image/png": "[encoded data removed]",
      "text/plain": [
       "<Figure size 648x288 with 2 Axes>"
      ]
     },
     "metadata": {
      "needs_background": "light"
     },
     "output_type": "display_data"
    }
   ],
   "source": [
    "plt.figure(figsize=(9,4))\n",
    "sns.heatmap(df.isnull(), yticklabels=False, cmap=\"Blues\")"
   ]
  },
  {
   "cell_type": "markdown",
   "metadata": {},
   "source": [
    "##### (figure out the imputation plan)"
   ]
  },
  {
   "cell_type": "code",
   "execution_count": 30,
   "metadata": {},
   "outputs": [
    {
     "data": {
      "text/plain": [
       "['bathrooms', 'bedrooms', 'area', 'year']"
      ]
     },
     "execution_count": 30,
     "metadata": {},
     "output_type": "execute_result"
    }
   ],
   "source": [
    "# select the variables with mssing observations\n",
    "\n",
    "vars_with_na = [var for var in df.columns if df[var].isnull().mean()>0]\n",
    "vars_with_na"
   ]
  },
  {
   "cell_type": "code",
   "execution_count": 31,
   "metadata": {},
   "outputs": [
    {
     "data": {
      "text/html": [
       "<div>\n",
       "<style scoped>\n",
       "    .dataframe tbody tr th:only-of-type {\n",
       "        vertical-align: middle;\n",
       "    }\n",
       "\n",
       "    .dataframe tbody tr th {\n",
       "        vertical-align: top;\n",
       "    }\n",
       "\n",
       "    .dataframe thead th {\n",
       "        text-align: right;\n",
       "    }\n",
       "</style>\n",
       "<table border=\"1\" class=\"dataframe\">\n",
       "  <thead>\n",
       "    <tr style=\"text-align: right;\">\n",
       "      <th></th>\n",
       "      <th>variable</th>\n",
       "      <th>na_percentage</th>\n",
       "    </tr>\n",
       "  </thead>\n",
       "  <tbody>\n",
       "    <tr>\n",
       "      <th>3</th>\n",
       "      <td>year</td>\n",
       "      <td>0.399580</td>\n",
       "    </tr>\n",
       "    <tr>\n",
       "      <th>2</th>\n",
       "      <td>area</td>\n",
       "      <td>0.115889</td>\n",
       "    </tr>\n",
       "    <tr>\n",
       "      <th>1</th>\n",
       "      <td>bedrooms</td>\n",
       "      <td>0.060829</td>\n",
       "    </tr>\n",
       "    <tr>\n",
       "      <th>0</th>\n",
       "      <td>bathrooms</td>\n",
       "      <td>0.001049</td>\n",
       "    </tr>\n",
       "  </tbody>\n",
       "</table>\n",
       "</div>"
      ],
      "text/plain": [
       "    variable  na_percentage\n",
       "3       year       0.399580\n",
       "2       area       0.115889\n",
       "1   bedrooms       0.060829\n",
       "0  bathrooms       0.001049"
      ]
     },
     "execution_count": 31,
     "metadata": {},
     "output_type": "execute_result"
    }
   ],
   "source": [
    "# find out the percentage of observations missing per variable\n",
    "data_na = df[vars_with_na].isnull().mean()\n",
    "\n",
    "# transform the array into a dataframe\n",
    "data_na = pd.DataFrame(data_na.reset_index())\n",
    "\n",
    "# add column names to the dataframe\n",
    "data_na.columns = ['variable', 'na_percentage']\n",
    "\n",
    "# order the dataframe according to percentage of na per variable\n",
    "data_na.sort_values(by='na_percentage', ascending=False, inplace=True)\n",
    "\n",
    "# show\n",
    "data_na"
   ]
  },
  {
   "cell_type": "code",
   "execution_count": 32,
   "metadata": {},
   "outputs": [],
   "source": [
    "# due to relative small amount, \"bedrooms\" and \"bathrooms\" will be mode imputed"
   ]
  },
  {
   "cell_type": "code",
   "execution_count": 33,
   "metadata": {},
   "outputs": [
    {
     "data": {
      "text/plain": [
       "<matplotlib.axes._subplots.AxesSubplot at 0x28572fa7828>"
      ]
     },
     "execution_count": 33,
     "metadata": {},
     "output_type": "execute_result"
    },
    {
     "data": {
      "image/png": "[encoded data removed]",
      "text/plain": [
       "<Figure size 432x288 with 1 Axes>"
      ]
     },
     "metadata": {
      "needs_background": "light"
     },
     "output_type": "display_data"
    }
   ],
   "source": [
    "# check the correlation between \"area\" and our predictor\n",
    "sns.scatterplot(data=df, x='area', y='price')\n",
    "# seems like a strong postive correlation"
   ]
  },
  {
   "cell_type": "code",
   "execution_count": 34,
   "metadata": {},
   "outputs": [
    {
     "name": "stdout",
     "output_type": "stream",
     "text": [
      "median price value:  $ 2350.0\n",
      "median area value:  1138.0 square ft\n"
     ]
    }
   ],
   "source": [
    "# median value of \"price\" and \"area\"\n",
    "print('median price value: ', '$',df['price'].median())\n",
    "print('median area value: ', df['area'].median(), 'square ft')"
   ]
  },
  {
   "cell_type": "code",
   "execution_count": 35,
   "metadata": {},
   "outputs": [],
   "source": [
    "# check if there is anything interesting about the records whose \"area\" variable is missing\n",
    "area_is_missing = df[df['area'].isnull()==1]"
   ]
  },
  {
   "cell_type": "code",
   "execution_count": 36,
   "metadata": {},
   "outputs": [
    {
     "data": {
      "image/png": "[encoded data removed]",
      "text/plain": [
       "<Figure size 720x576 with 6 Axes>"
      ]
     },
     "metadata": {
      "needs_background": "light"
     },
     "output_type": "display_data"
    }
   ],
   "source": [
    "area_is_missing.hist(bins=20, figsize=(10, 8), color='r')\n",
    "plt.show()\n",
    "# looks similar to the population"
   ]
  },
  {
   "cell_type": "code",
   "execution_count": 37,
   "metadata": {},
   "outputs": [],
   "source": [
    "# because it seems that \"area\" data is missing at random, we'll use mean/median imputation"
   ]
  },
  {
   "cell_type": "code",
   "execution_count": 38,
   "metadata": {},
   "outputs": [
    {
     "data": {
      "text/plain": [
       "<matplotlib.axes._subplots.AxesSubplot at 0x285734b4588>"
      ]
     },
     "execution_count": 38,
     "metadata": {},
     "output_type": "execute_result"
    },
    {
     "data": {
      "image/png": "[encoded data removed]",
      "text/plain": [
       "<Figure size 432x288 with 1 Axes>"
      ]
     },
     "metadata": {
      "needs_background": "light"
     },
     "output_type": "display_data"
    }
   ],
   "source": [
    "# Check variable \"year\"\n",
    "sns.scatterplot(data=df, x='year', y='price')\n",
    "# no clear relationships"
   ]
  },
  {
   "cell_type": "code",
   "execution_count": 39,
   "metadata": {},
   "outputs": [],
   "source": [
    "# we'll use random sample imputation for variable \"year\""
   ]
  },
  {
   "cell_type": "markdown",
   "metadata": {},
   "source": [
    "### Missing value imputation"
   ]
  },
  {
   "cell_type": "markdown",
   "metadata": {},
   "source": [
    "##### (\"bedrooms\" & \"bathrooms\")"
   ]
  },
  {
   "cell_type": "code",
   "execution_count": 40,
   "metadata": {},
   "outputs": [],
   "source": [
    "# \"bedrooms\" & \"bathrooms\" - mean imputing"
   ]
  },
  {
   "cell_type": "code",
   "execution_count": 41,
   "metadata": {},
   "outputs": [],
   "source": [
    "# define a function that works the work\n",
    "\n",
    "def impute_na(df, variable, strategy):\n",
    "    return df[variable].fillna(strategy)"
   ]
  },
  {
   "cell_type": "code",
   "execution_count": 42,
   "metadata": {},
   "outputs": [
    {
     "data": {
      "text/plain": [
       "2.2314165497896212"
      ]
     },
     "execution_count": 42,
     "metadata": {},
     "output_type": "execute_result"
    }
   ],
   "source": [
    "# calculate the mean bedrooms\n",
    "mean_bedrooms = X_train['bedrooms'].mean()\n",
    "mean_bedrooms"
   ]
  },
  {
   "cell_type": "code",
   "execution_count": 43,
   "metadata": {},
   "outputs": [
    {
     "data": {
      "text/plain": [
       "1.5784635587655942"
      ]
     },
     "execution_count": 43,
     "metadata": {},
     "output_type": "execute_result"
    }
   ],
   "source": [
    "# calculate the mean bathrooms\n",
    "mean_bathrooms = X_train['bathrooms'].mean()\n",
    "mean_bathrooms"
   ]
  },
  {
   "cell_type": "code",
   "execution_count": 44,
   "metadata": {},
   "outputs": [],
   "source": [
    "# impute \"bedrooms\"\n",
    "X_train['bedrooms'] = impute_na(X_train, 'bedrooms', mean_bedrooms)\n",
    "X_test['bedrooms'] = impute_na(X_test, 'bedrooms', mean_bedrooms)"
   ]
  },
  {
   "cell_type": "code",
   "execution_count": 45,
   "metadata": {},
   "outputs": [],
   "source": [
    "# impute \"bathrooms\"\n",
    "X_train['bathrooms'] = impute_na(X_train, 'bathrooms', mean_bathrooms)\n",
    "X_test['bathrooms'] = impute_na(X_test, 'bathrooms', mean_bathrooms)"
   ]
  },
  {
   "cell_type": "code",
   "execution_count": 46,
   "metadata": {},
   "outputs": [
    {
     "data": {
      "text/plain": [
       "<matplotlib.axes._subplots.AxesSubplot at 0x285734afe80>"
      ]
     },
     "execution_count": 46,
     "metadata": {},
     "output_type": "execute_result"
    },
    {
     "data": {
      "image/png": "[encoded data removed]",
      "text/plain": [
       "<Figure size 648x288 with 2 Axes>"
      ]
     },
     "metadata": {
      "needs_background": "light"
     },
     "output_type": "display_data"
    }
   ],
   "source": [
    "# check X_train\n",
    "plt.figure(figsize=(9,4))\n",
    "sns.heatmap(X_train.isnull(), yticklabels=False, cmap=\"Blues\")"
   ]
  },
  {
   "cell_type": "code",
   "execution_count": 47,
   "metadata": {},
   "outputs": [
    {
     "data": {
      "text/plain": [
       "<matplotlib.axes._subplots.AxesSubplot at 0x285732aef60>"
      ]
     },
     "execution_count": 47,
     "metadata": {},
     "output_type": "execute_result"
    },
    {
     "data": {
      "image/png": "[encoded data removed]",
      "text/plain": [
       "<Figure size 648x288 with 2 Axes>"
      ]
     },
     "metadata": {
      "needs_background": "light"
     },
     "output_type": "display_data"
    }
   ],
   "source": [
    "# check X_test\n",
    "plt.figure(figsize=(9,4))\n",
    "sns.heatmap(X_test.isnull(), yticklabels=False, cmap=\"Blues\")"
   ]
  },
  {
   "cell_type": "markdown",
   "metadata": {},
   "source": [
    "##### (\"area\")"
   ]
  },
  {
   "cell_type": "code",
   "execution_count": 48,
   "metadata": {},
   "outputs": [
    {
     "data": {
      "text/plain": [
       "1133.5"
      ]
     },
     "execution_count": 48,
     "metadata": {},
     "output_type": "execute_result"
    }
   ],
   "source": [
    "median_area = X_train['area'].median()\n",
    "median_area"
   ]
  },
  {
   "cell_type": "code",
   "execution_count": 49,
   "metadata": {},
   "outputs": [],
   "source": [
    "# impute\n",
    "X_train['area'] = impute_na(X_train, 'area', median_area)\n",
    "X_test['area'] = impute_na(X_test, 'area', median_area)"
   ]
  },
  {
   "cell_type": "code",
   "execution_count": 50,
   "metadata": {},
   "outputs": [
    {
     "data": {
      "text/plain": [
       "<matplotlib.axes._subplots.AxesSubplot at 0x28572fa30b8>"
      ]
     },
     "execution_count": 50,
     "metadata": {},
     "output_type": "execute_result"
    },
    {
     "data": {
      "image/png": "[encoded data removed]",
      "text/plain": [
       "<Figure size 648x288 with 2 Axes>"
      ]
     },
     "metadata": {
      "needs_background": "light"
     },
     "output_type": "display_data"
    }
   ],
   "source": [
    "# check X_train\n",
    "plt.figure(figsize=(9,4))\n",
    "sns.heatmap(X_train.isnull(), yticklabels=False, cmap=\"Blues\")"
   ]
  },
  {
   "cell_type": "code",
   "execution_count": 51,
   "metadata": {},
   "outputs": [
    {
     "data": {
      "text/plain": [
       "<matplotlib.axes._subplots.AxesSubplot at 0x285732d3da0>"
      ]
     },
     "execution_count": 51,
     "metadata": {},
     "output_type": "execute_result"
    },
    {
     "data": {
      "image/png": "[encoded data removed]",
      "text/plain": [
       "<Figure size 648x288 with 2 Axes>"
      ]
     },
     "metadata": {
      "needs_background": "light"
     },
     "output_type": "display_data"
    }
   ],
   "source": [
    "# check X_test\n",
    "plt.figure(figsize=(9,4))\n",
    "sns.heatmap(X_test.isnull(), yticklabels=False, cmap=\"Blues\")"
   ]
  },
  {
   "cell_type": "markdown",
   "metadata": {},
   "source": [
    "##### (\"year\")"
   ]
  },
  {
   "cell_type": "code",
   "execution_count": 52,
   "metadata": {},
   "outputs": [
    {
     "data": {
      "text/plain": [
       "72.0"
      ]
     },
     "execution_count": 52,
     "metadata": {},
     "output_type": "execute_result"
    }
   ],
   "source": [
    "mode_year = X_train['year'].mode()[0]\n",
    "mode_year"
   ]
  },
  {
   "cell_type": "code",
   "execution_count": 53,
   "metadata": {},
   "outputs": [],
   "source": [
    "# impute\n",
    "X_train['year'] = impute_na(X_train, 'year', mode_year)\n",
    "X_test['year'] = impute_na(X_test, 'year', mode_year)"
   ]
  },
  {
   "cell_type": "code",
   "execution_count": 54,
   "metadata": {},
   "outputs": [
    {
     "data": {
      "text/plain": [
       "<matplotlib.axes._subplots.AxesSubplot at 0x285730200b8>"
      ]
     },
     "execution_count": 54,
     "metadata": {},
     "output_type": "execute_result"
    },
    {
     "data": {
      "image/png": "[encoded data removed]",
      "text/plain": [
       "<Figure size 648x288 with 2 Axes>"
      ]
     },
     "metadata": {
      "needs_background": "light"
     },
     "output_type": "display_data"
    }
   ],
   "source": [
    "# check X_train\n",
    "plt.figure(figsize=(9,4))\n",
    "sns.heatmap(X_train.isnull(), yticklabels=False, cmap=\"Blues\")"
   ]
  },
  {
   "cell_type": "code",
   "execution_count": 55,
   "metadata": {},
   "outputs": [
    {
     "data": {
      "text/plain": [
       "<matplotlib.axes._subplots.AxesSubplot at 0x2857303ac18>"
      ]
     },
     "execution_count": 55,
     "metadata": {},
     "output_type": "execute_result"
    },
    {
     "data": {
      "image/png": "[encoded data removed]",
      "text/plain": [
       "<Figure size 648x288 with 2 Axes>"
      ]
     },
     "metadata": {
      "needs_background": "light"
     },
     "output_type": "display_data"
    }
   ],
   "source": [
    "# check X_test\n",
    "plt.figure(figsize=(9,4))\n",
    "sns.heatmap(X_test.isnull(), yticklabels=False, cmap=\"Blues\")"
   ]
  },
  {
   "cell_type": "code",
   "execution_count": 56,
   "metadata": {},
   "outputs": [
    {
     "data": {
      "text/plain": [
       "city         0\n",
       "zipcode      0\n",
       "bathrooms    0\n",
       "bedrooms     0\n",
       "area         0\n",
       "year         0\n",
       "price        0\n",
       "dtype: int64"
      ]
     },
     "execution_count": 56,
     "metadata": {},
     "output_type": "execute_result"
    }
   ],
   "source": [
    "X_train.isnull().sum()"
   ]
  },
  {
   "cell_type": "code",
   "execution_count": 57,
   "metadata": {},
   "outputs": [
    {
     "data": {
      "text/plain": [
       "city         0\n",
       "zipcode      0\n",
       "bathrooms    0\n",
       "bedrooms     0\n",
       "area         0\n",
       "year         0\n",
       "price        0\n",
       "dtype: int64"
      ]
     },
     "execution_count": 57,
     "metadata": {},
     "output_type": "execute_result"
    }
   ],
   "source": [
    "X_test.isnull().sum()"
   ]
  },
  {
   "cell_type": "markdown",
   "metadata": {},
   "source": [
    "### Categorical variable encoding"
   ]
  },
  {
   "cell_type": "markdown",
   "metadata": {},
   "source": [
    "##### (\"city\")"
   ]
  },
  {
   "cell_type": "code",
   "execution_count": 58,
   "metadata": {},
   "outputs": [],
   "source": [
    "# \"city\" - target-guided encoding\n",
    "# encoded by the ranking of the median price per city (lowest to highest):\n",
    "# Dallas - Seattle - Los Angeles - San Francisco"
   ]
  },
  {
   "cell_type": "code",
   "execution_count": 59,
   "metadata": {},
   "outputs": [
    {
     "name": "stdout",
     "output_type": "stream",
     "text": [
      "Dallas:  $ 1775.0\n",
      "San Francisco:  $ 3195.0\n",
      "Los Angeles:  $ 2500.0\n",
      "Seattle:  $ 2075.0\n"
     ]
    }
   ],
   "source": [
    "# median price per city\n",
    "dal = df[df['city'] == 'Dallas']\n",
    "sf = df[df['city'] == 'San Francisco']\n",
    "la = df[df['city'] == 'Los Angeles']\n",
    "sea = df[df['city'] == 'Seattle']\n",
    "\n",
    "print('Dallas: ', '$', dal['price'].median())\n",
    "print('San Francisco: ', '$', sf['price'].median())\n",
    "print('Los Angeles: ', '$', la['price'].median())\n",
    "print('Seattle: ', '$', sea['price'].median())"
   ]
  },
  {
   "cell_type": "code",
   "execution_count": 60,
   "metadata": {},
   "outputs": [
    {
     "data": {
      "text/plain": [
       "city\n",
       "Dallas           1795\n",
       "Seattle          2000\n",
       "Los Angeles      2500\n",
       "San Francisco    3100\n",
       "Name: price, dtype: int64"
      ]
     },
     "execution_count": 60,
     "metadata": {},
     "output_type": "execute_result"
    }
   ],
   "source": [
    "# order the labels according to the median target value\n",
    "\n",
    "X_train.groupby(['city'])['price'].median().sort_values()"
   ]
  },
  {
   "cell_type": "code",
   "execution_count": 61,
   "metadata": {},
   "outputs": [
    {
     "data": {
      "text/plain": [
       "Index(['Dallas', 'Seattle', 'Los Angeles', 'San Francisco'], dtype='object', name='city')"
      ]
     },
     "execution_count": 61,
     "metadata": {},
     "output_type": "execute_result"
    }
   ],
   "source": [
    "# generate an ordered list with the labels\n",
    "\n",
    "city_ordered_labels = X_train.groupby(['city'])['price'].median().sort_values().index\n",
    "\n",
    "city_ordered_labels"
   ]
  },
  {
   "cell_type": "code",
   "execution_count": 62,
   "metadata": {},
   "outputs": [
    {
     "data": {
      "text/plain": [
       "{'Dallas': 0, 'Seattle': 1, 'Los Angeles': 2, 'San Francisco': 3}"
      ]
     },
     "execution_count": 62,
     "metadata": {},
     "output_type": "execute_result"
    }
   ],
   "source": [
    "# create a dictionary with the mappings of categories to numbers\n",
    "\n",
    "city_ordinal_mapping = {k: i for i, k in enumerate(city_ordered_labels, 0)}\n",
    "\n",
    "city_ordinal_mapping"
   ]
  },
  {
   "cell_type": "code",
   "execution_count": 63,
   "metadata": {},
   "outputs": [],
   "source": [
    "# replace the labels with the integers\n",
    "\n",
    "X_train['city'] = X_train['city'].map(city_ordinal_mapping)\n",
    "X_test['city'] = X_test['city'].map(city_ordinal_mapping)"
   ]
  },
  {
   "cell_type": "markdown",
   "metadata": {},
   "source": [
    "##### (\"zipcode\")"
   ]
  },
  {
   "cell_type": "code",
   "execution_count": 64,
   "metadata": {},
   "outputs": [
    {
     "data": {
      "text/plain": [
       "others    1192\n",
       "94117      131\n",
       "94122      110\n",
       "98116       85\n",
       "94114       73\n",
       "98144       72\n",
       "98122       63\n",
       "75206       57\n",
       "94116       43\n",
       "98118       42\n",
       "90731       39\n",
       "Name: zipcode, dtype: int64"
      ]
     },
     "execution_count": 64,
     "metadata": {},
     "output_type": "execute_result"
    }
   ],
   "source": [
    "# figure out how to deal with \"zipcode\"\n",
    "df['zipcode'].value_counts()"
   ]
  },
  {
   "cell_type": "code",
   "execution_count": 65,
   "metadata": {},
   "outputs": [],
   "source": [
    "top_zipcodes = df[(df['zipcode']== '94117') | (df['zipcode']== '94122') | (df['zipcode']== '98116') | (df['zipcode']== '98114') | (df['zipcode']== '98144') | (df['zipcode']== '98122') | (df['zipcode']== '75206')]"
   ]
  },
  {
   "cell_type": "code",
   "execution_count": 66,
   "metadata": {},
   "outputs": [
    {
     "data": {
      "image/png": "[encoded data removed]",
      "text/plain": [
       "<Figure size 720x576 with 6 Axes>"
      ]
     },
     "metadata": {
      "needs_background": "light"
     },
     "output_type": "display_data"
    }
   ],
   "source": [
    "top_zipcodes.hist(bins=30, figsize=(10, 8))\n",
    "plt.show()"
   ]
  },
  {
   "cell_type": "code",
   "execution_count": 67,
   "metadata": {},
   "outputs": [
    {
     "data": {
      "image/png": "[encoded data removed]",
      "text/plain": [
       "<Figure size 720x576 with 6 Axes>"
      ]
     },
     "metadata": {
      "needs_background": "light"
     },
     "output_type": "display_data"
    }
   ],
   "source": [
    "df.hist(bins=30, figsize=(10, 8))\n",
    "plt.show()"
   ]
  },
  {
   "cell_type": "code",
   "execution_count": 68,
   "metadata": {},
   "outputs": [],
   "source": [
    "# strategy:\n",
    "# first, select out \"big\" zipcodes (freq higher than 2%) (done)\n",
    "# group all the other labels like in \"rare labels grouping\" (done)\n",
    "# last, target-guided encoding"
   ]
  },
  {
   "cell_type": "code",
   "execution_count": 69,
   "metadata": {},
   "outputs": [
    {
     "data": {
      "text/plain": [
       "zipcode\n",
       "75206     2007.477273\n",
       "98144     2132.730769\n",
       "98118     2203.620690\n",
       "90731     2204.000000\n",
       "98122     2349.326923\n",
       "others    2353.600209\n",
       "98116     2367.794118\n",
       "94122     3142.147727\n",
       "94116     3253.605263\n",
       "94114     3395.446429\n",
       "94117     3636.083333\n",
       "Name: price, dtype: float64"
      ]
     },
     "execution_count": 69,
     "metadata": {},
     "output_type": "execute_result"
    }
   ],
   "source": [
    "# target-guided encoding\n",
    "X_train.groupby(['zipcode'])['price'].mean().sort_values()"
   ]
  },
  {
   "cell_type": "code",
   "execution_count": 70,
   "metadata": {},
   "outputs": [
    {
     "data": {
      "text/plain": [
       "Index(['75206', '98144', '98118', '90731', '98122', 'others', '98116', '94122',\n",
       "       '94116', '94114', '94117'],\n",
       "      dtype='object', name='zipcode')"
      ]
     },
     "execution_count": 70,
     "metadata": {},
     "output_type": "execute_result"
    }
   ],
   "source": [
    "# generate an ordered list with the labels\n",
    "\n",
    "ordered_labels = X_train.groupby(['zipcode'])['price'].mean().sort_values().index\n",
    "\n",
    "ordered_labels"
   ]
  },
  {
   "cell_type": "code",
   "execution_count": 71,
   "metadata": {},
   "outputs": [
    {
     "data": {
      "text/plain": [
       "{'75206': 0,\n",
       " '98144': 1,\n",
       " '98118': 2,\n",
       " '90731': 3,\n",
       " '98122': 4,\n",
       " 'others': 5,\n",
       " '98116': 6,\n",
       " '94122': 7,\n",
       " '94116': 8,\n",
       " '94114': 9,\n",
       " '94117': 10}"
      ]
     },
     "execution_count": 71,
     "metadata": {},
     "output_type": "execute_result"
    }
   ],
   "source": [
    "ordinal_mapping2 = {k: i for i, k in enumerate(ordered_labels, 0)}\n",
    "\n",
    "ordinal_mapping2"
   ]
  },
  {
   "cell_type": "code",
   "execution_count": 72,
   "metadata": {},
   "outputs": [],
   "source": [
    "# replace the labels with the integers\n",
    "\n",
    "X_train['zipcode'] = X_train['zipcode'].map(ordinal_mapping2)\n",
    "X_test['zipcode'] = X_test['zipcode'].map(ordinal_mapping2)"
   ]
  },
  {
   "cell_type": "code",
   "execution_count": 73,
   "metadata": {},
   "outputs": [
    {
     "data": {
      "text/plain": [
       "1725     5\n",
       "1353     2\n",
       "558      9\n",
       "1430     5\n",
       "1379     1\n",
       "268      5\n",
       "393      5\n",
       "31       5\n",
       "801     10\n",
       "465      5\n",
       "Name: zipcode, dtype: int64"
      ]
     },
     "execution_count": 73,
     "metadata": {},
     "output_type": "execute_result"
    }
   ],
   "source": [
    "# check the results\n",
    "X_train['zipcode'].head(10)"
   ]
  },
  {
   "cell_type": "code",
   "execution_count": 74,
   "metadata": {},
   "outputs": [
    {
     "data": {
      "text/html": [
       "<div>\n",
       "<style scoped>\n",
       "    .dataframe tbody tr th:only-of-type {\n",
       "        vertical-align: middle;\n",
       "    }\n",
       "\n",
       "    .dataframe tbody tr th {\n",
       "        vertical-align: top;\n",
       "    }\n",
       "\n",
       "    .dataframe thead th {\n",
       "        text-align: right;\n",
       "    }\n",
       "</style>\n",
       "<table border=\"1\" class=\"dataframe\">\n",
       "  <thead>\n",
       "    <tr style=\"text-align: right;\">\n",
       "      <th></th>\n",
       "      <th>city</th>\n",
       "      <th>zipcode</th>\n",
       "      <th>bathrooms</th>\n",
       "      <th>bedrooms</th>\n",
       "      <th>area</th>\n",
       "      <th>year</th>\n",
       "      <th>price</th>\n",
       "    </tr>\n",
       "  </thead>\n",
       "  <tbody>\n",
       "    <tr>\n",
       "      <th>1725</th>\n",
       "      <td>2</td>\n",
       "      <td>5</td>\n",
       "      <td>2.5</td>\n",
       "      <td>2.000000</td>\n",
       "      <td>1233.0</td>\n",
       "      <td>42.0</td>\n",
       "      <td>2450</td>\n",
       "    </tr>\n",
       "    <tr>\n",
       "      <th>1353</th>\n",
       "      <td>1</td>\n",
       "      <td>2</td>\n",
       "      <td>2.0</td>\n",
       "      <td>3.000000</td>\n",
       "      <td>900.0</td>\n",
       "      <td>62.0</td>\n",
       "      <td>2200</td>\n",
       "    </tr>\n",
       "    <tr>\n",
       "      <th>558</th>\n",
       "      <td>3</td>\n",
       "      <td>9</td>\n",
       "      <td>2.0</td>\n",
       "      <td>3.000000</td>\n",
       "      <td>1700.0</td>\n",
       "      <td>72.0</td>\n",
       "      <td>5595</td>\n",
       "    </tr>\n",
       "    <tr>\n",
       "      <th>1430</th>\n",
       "      <td>1</td>\n",
       "      <td>5</td>\n",
       "      <td>2.5</td>\n",
       "      <td>4.000000</td>\n",
       "      <td>1770.0</td>\n",
       "      <td>72.0</td>\n",
       "      <td>2850</td>\n",
       "    </tr>\n",
       "    <tr>\n",
       "      <th>1379</th>\n",
       "      <td>1</td>\n",
       "      <td>1</td>\n",
       "      <td>1.0</td>\n",
       "      <td>2.000000</td>\n",
       "      <td>1200.0</td>\n",
       "      <td>101.0</td>\n",
       "      <td>2500</td>\n",
       "    </tr>\n",
       "    <tr>\n",
       "      <th>...</th>\n",
       "      <td>...</td>\n",
       "      <td>...</td>\n",
       "      <td>...</td>\n",
       "      <td>...</td>\n",
       "      <td>...</td>\n",
       "      <td>...</td>\n",
       "      <td>...</td>\n",
       "    </tr>\n",
       "    <tr>\n",
       "      <th>835</th>\n",
       "      <td>3</td>\n",
       "      <td>9</td>\n",
       "      <td>1.0</td>\n",
       "      <td>2.000000</td>\n",
       "      <td>1200.0</td>\n",
       "      <td>72.0</td>\n",
       "      <td>4100</td>\n",
       "    </tr>\n",
       "    <tr>\n",
       "      <th>1216</th>\n",
       "      <td>1</td>\n",
       "      <td>5</td>\n",
       "      <td>1.5</td>\n",
       "      <td>2.000000</td>\n",
       "      <td>1000.0</td>\n",
       "      <td>38.0</td>\n",
       "      <td>1400</td>\n",
       "    </tr>\n",
       "    <tr>\n",
       "      <th>1653</th>\n",
       "      <td>2</td>\n",
       "      <td>5</td>\n",
       "      <td>1.0</td>\n",
       "      <td>1.000000</td>\n",
       "      <td>624.0</td>\n",
       "      <td>64.0</td>\n",
       "      <td>1500</td>\n",
       "    </tr>\n",
       "    <tr>\n",
       "      <th>559</th>\n",
       "      <td>3</td>\n",
       "      <td>10</td>\n",
       "      <td>1.0</td>\n",
       "      <td>2.231417</td>\n",
       "      <td>1133.5</td>\n",
       "      <td>72.0</td>\n",
       "      <td>2350</td>\n",
       "    </tr>\n",
       "    <tr>\n",
       "      <th>684</th>\n",
       "      <td>3</td>\n",
       "      <td>10</td>\n",
       "      <td>1.0</td>\n",
       "      <td>3.000000</td>\n",
       "      <td>1225.0</td>\n",
       "      <td>72.0</td>\n",
       "      <td>4150</td>\n",
       "    </tr>\n",
       "  </tbody>\n",
       "</table>\n",
       "<p>1525 rows × 7 columns</p>\n",
       "</div>"
      ],
      "text/plain": [
       "      city  zipcode  bathrooms  bedrooms    area   year  price\n",
       "1725     2        5        2.5  2.000000  1233.0   42.0   2450\n",
       "1353     1        2        2.0  3.000000   900.0   62.0   2200\n",
       "558      3        9        2.0  3.000000  1700.0   72.0   5595\n",
       "1430     1        5        2.5  4.000000  1770.0   72.0   2850\n",
       "1379     1        1        1.0  2.000000  1200.0  101.0   2500\n",
       "...    ...      ...        ...       ...     ...    ...    ...\n",
       "835      3        9        1.0  2.000000  1200.0   72.0   4100\n",
       "1216     1        5        1.5  2.000000  1000.0   38.0   1400\n",
       "1653     2        5        1.0  1.000000   624.0   64.0   1500\n",
       "559      3       10        1.0  2.231417  1133.5   72.0   2350\n",
       "684      3       10        1.0  3.000000  1225.0   72.0   4150\n",
       "\n",
       "[1525 rows x 7 columns]"
      ]
     },
     "execution_count": 74,
     "metadata": {},
     "output_type": "execute_result"
    }
   ],
   "source": [
    "X_train"
   ]
  },
  {
   "cell_type": "code",
   "execution_count": 75,
   "metadata": {},
   "outputs": [
    {
     "data": {
      "text/html": [
       "<div>\n",
       "<style scoped>\n",
       "    .dataframe tbody tr th:only-of-type {\n",
       "        vertical-align: middle;\n",
       "    }\n",
       "\n",
       "    .dataframe tbody tr th {\n",
       "        vertical-align: top;\n",
       "    }\n",
       "\n",
       "    .dataframe thead th {\n",
       "        text-align: right;\n",
       "    }\n",
       "</style>\n",
       "<table border=\"1\" class=\"dataframe\">\n",
       "  <thead>\n",
       "    <tr style=\"text-align: right;\">\n",
       "      <th></th>\n",
       "      <th>city</th>\n",
       "      <th>zipcode</th>\n",
       "      <th>bathrooms</th>\n",
       "      <th>bedrooms</th>\n",
       "      <th>area</th>\n",
       "      <th>year</th>\n",
       "      <th>price</th>\n",
       "    </tr>\n",
       "  </thead>\n",
       "  <tbody>\n",
       "    <tr>\n",
       "      <th>1081</th>\n",
       "      <td>1</td>\n",
       "      <td>5</td>\n",
       "      <td>2.0</td>\n",
       "      <td>2.0</td>\n",
       "      <td>1050.0</td>\n",
       "      <td>14.0</td>\n",
       "      <td>2000</td>\n",
       "    </tr>\n",
       "    <tr>\n",
       "      <th>1861</th>\n",
       "      <td>2</td>\n",
       "      <td>5</td>\n",
       "      <td>2.0</td>\n",
       "      <td>2.0</td>\n",
       "      <td>1170.0</td>\n",
       "      <td>14.0</td>\n",
       "      <td>2800</td>\n",
       "    </tr>\n",
       "    <tr>\n",
       "      <th>1260</th>\n",
       "      <td>1</td>\n",
       "      <td>5</td>\n",
       "      <td>1.5</td>\n",
       "      <td>1.0</td>\n",
       "      <td>865.0</td>\n",
       "      <td>72.0</td>\n",
       "      <td>2400</td>\n",
       "    </tr>\n",
       "    <tr>\n",
       "      <th>1182</th>\n",
       "      <td>1</td>\n",
       "      <td>4</td>\n",
       "      <td>1.0</td>\n",
       "      <td>1.0</td>\n",
       "      <td>735.0</td>\n",
       "      <td>72.0</td>\n",
       "      <td>1595</td>\n",
       "    </tr>\n",
       "    <tr>\n",
       "      <th>135</th>\n",
       "      <td>0</td>\n",
       "      <td>5</td>\n",
       "      <td>1.0</td>\n",
       "      <td>1.0</td>\n",
       "      <td>448.0</td>\n",
       "      <td>37.0</td>\n",
       "      <td>850</td>\n",
       "    </tr>\n",
       "    <tr>\n",
       "      <th>...</th>\n",
       "      <td>...</td>\n",
       "      <td>...</td>\n",
       "      <td>...</td>\n",
       "      <td>...</td>\n",
       "      <td>...</td>\n",
       "      <td>...</td>\n",
       "      <td>...</td>\n",
       "    </tr>\n",
       "    <tr>\n",
       "      <th>1647</th>\n",
       "      <td>2</td>\n",
       "      <td>5</td>\n",
       "      <td>2.0</td>\n",
       "      <td>4.0</td>\n",
       "      <td>2000.0</td>\n",
       "      <td>74.0</td>\n",
       "      <td>3200</td>\n",
       "    </tr>\n",
       "    <tr>\n",
       "      <th>1340</th>\n",
       "      <td>1</td>\n",
       "      <td>6</td>\n",
       "      <td>2.0</td>\n",
       "      <td>2.0</td>\n",
       "      <td>1312.0</td>\n",
       "      <td>43.0</td>\n",
       "      <td>3150</td>\n",
       "    </tr>\n",
       "    <tr>\n",
       "      <th>536</th>\n",
       "      <td>3</td>\n",
       "      <td>7</td>\n",
       "      <td>1.0</td>\n",
       "      <td>3.0</td>\n",
       "      <td>1360.0</td>\n",
       "      <td>81.0</td>\n",
       "      <td>3850</td>\n",
       "    </tr>\n",
       "    <tr>\n",
       "      <th>884</th>\n",
       "      <td>3</td>\n",
       "      <td>9</td>\n",
       "      <td>1.0</td>\n",
       "      <td>1.0</td>\n",
       "      <td>1133.5</td>\n",
       "      <td>72.0</td>\n",
       "      <td>3500</td>\n",
       "    </tr>\n",
       "    <tr>\n",
       "      <th>557</th>\n",
       "      <td>3</td>\n",
       "      <td>10</td>\n",
       "      <td>1.0</td>\n",
       "      <td>3.0</td>\n",
       "      <td>1400.0</td>\n",
       "      <td>72.0</td>\n",
       "      <td>4500</td>\n",
       "    </tr>\n",
       "  </tbody>\n",
       "</table>\n",
       "<p>382 rows × 7 columns</p>\n",
       "</div>"
      ],
      "text/plain": [
       "      city  zipcode  bathrooms  bedrooms    area  year  price\n",
       "1081     1        5        2.0       2.0  1050.0  14.0   2000\n",
       "1861     2        5        2.0       2.0  1170.0  14.0   2800\n",
       "1260     1        5        1.5       1.0   865.0  72.0   2400\n",
       "1182     1        4        1.0       1.0   735.0  72.0   1595\n",
       "135      0        5        1.0       1.0   448.0  37.0    850\n",
       "...    ...      ...        ...       ...     ...   ...    ...\n",
       "1647     2        5        2.0       4.0  2000.0  74.0   3200\n",
       "1340     1        6        2.0       2.0  1312.0  43.0   3150\n",
       "536      3        7        1.0       3.0  1360.0  81.0   3850\n",
       "884      3        9        1.0       1.0  1133.5  72.0   3500\n",
       "557      3       10        1.0       3.0  1400.0  72.0   4500\n",
       "\n",
       "[382 rows x 7 columns]"
      ]
     },
     "execution_count": 75,
     "metadata": {},
     "output_type": "execute_result"
    }
   ],
   "source": [
    "X_test"
   ]
  },
  {
   "cell_type": "markdown",
   "metadata": {},
   "source": [
    "### Numerical variable transformation"
   ]
  },
  {
   "cell_type": "code",
   "execution_count": 76,
   "metadata": {},
   "outputs": [],
   "source": [
    "# for future comparison use\n",
    "X_train_before_log = X_train.copy()\n",
    "X_test_before_log = X_train.copy()"
   ]
  },
  {
   "cell_type": "code",
   "execution_count": 77,
   "metadata": {},
   "outputs": [],
   "source": [
    "for var in ['bathrooms', 'bedrooms', 'area', 'year', 'price']:\n",
    "    X_train[var] = np.log(X_train[var])\n",
    "    X_test[var] = np.log(X_test[var])"
   ]
  },
  {
   "cell_type": "code",
   "execution_count": 78,
   "metadata": {},
   "outputs": [
    {
     "data": {
      "text/plain": [
       "[]"
      ]
     },
     "execution_count": 78,
     "metadata": {},
     "output_type": "execute_result"
    }
   ],
   "source": [
    "# check taht training set does not contain null values in the engineered variables\n",
    "[var for var in ['bathrooms', 'bedrooms', 'area', 'year', 'price'] if X_train[var].isnull().sum()>0]"
   ]
  },
  {
   "cell_type": "code",
   "execution_count": 79,
   "metadata": {},
   "outputs": [
    {
     "data": {
      "text/plain": [
       "[]"
      ]
     },
     "execution_count": 79,
     "metadata": {},
     "output_type": "execute_result"
    }
   ],
   "source": [
    "# same for test set\n",
    "[var for var in ['bathrooms', 'bedrooms', 'area', 'year', 'price'] if X_test[var].isnull().sum()>0]"
   ]
  },
  {
   "cell_type": "code",
   "execution_count": 80,
   "metadata": {},
   "outputs": [
    {
     "data": {
      "image/png": "[encoded data removed]",
      "text/plain": [
       "<Figure size 864x360 with 2 Axes>"
      ]
     },
     "metadata": {
      "needs_background": "light"
     },
     "output_type": "display_data"
    }
   ],
   "source": [
    "# compare the variable distributions before and after log transformation\n",
    "\n",
    "fig, (ax1, ax2) = plt.subplots(ncols=2, figsize=(12,5))\n",
    "\n",
    "# before scaling\n",
    "ax1.set_title('Before Scaling')\n",
    "sns.kdeplot(X_train_before_log['bedrooms'], ax=ax1)\n",
    "sns.kdeplot(X_train_before_log['bathrooms'], ax=ax1)\n",
    "sns.kdeplot(X_train_before_log['area'], ax=ax1)\n",
    "sns.kdeplot(X_train_before_log['year'], ax=ax1)\n",
    "sns.kdeplot(X_train_before_log['price'], ax=ax1)\n",
    "\n",
    "# after scaling\n",
    "ax2.set_title('After Scaling')\n",
    "sns.kdeplot(X_train['bedrooms'], ax=ax2)\n",
    "sns.kdeplot(X_train['bathrooms'], ax=ax2)\n",
    "sns.kdeplot(X_train['area'], ax=ax2, )\n",
    "sns.kdeplot(X_train['year'], ax=ax2)\n",
    "sns.kdeplot(X_train['price'], ax=ax2)\n",
    "plt.show()"
   ]
  },
  {
   "cell_type": "markdown",
   "metadata": {},
   "source": [
    "### Feature scaling"
   ]
  },
  {
   "cell_type": "code",
   "execution_count": 81,
   "metadata": {},
   "outputs": [],
   "source": [
    "# In future model building, we will use linear regression and svr\n",
    "# because they are sensitive to feature magnitutde, we need to do feature scaling\n",
    "# we decide to use standardization"
   ]
  },
  {
   "cell_type": "code",
   "execution_count": 82,
   "metadata": {},
   "outputs": [
    {
     "data": {
      "text/html": [
       "<div>\n",
       "<style scoped>\n",
       "    .dataframe tbody tr th:only-of-type {\n",
       "        vertical-align: middle;\n",
       "    }\n",
       "\n",
       "    .dataframe tbody tr th {\n",
       "        vertical-align: top;\n",
       "    }\n",
       "\n",
       "    .dataframe thead th {\n",
       "        text-align: right;\n",
       "    }\n",
       "</style>\n",
       "<table border=\"1\" class=\"dataframe\">\n",
       "  <thead>\n",
       "    <tr style=\"text-align: right;\">\n",
       "      <th></th>\n",
       "      <th>city</th>\n",
       "      <th>zipcode</th>\n",
       "      <th>bathrooms</th>\n",
       "      <th>bedrooms</th>\n",
       "      <th>area</th>\n",
       "      <th>year</th>\n",
       "      <th>price</th>\n",
       "    </tr>\n",
       "  </thead>\n",
       "  <tbody>\n",
       "    <tr>\n",
       "      <th>1725</th>\n",
       "      <td>2</td>\n",
       "      <td>5</td>\n",
       "      <td>0.916291</td>\n",
       "      <td>0.693147</td>\n",
       "      <td>7.117206</td>\n",
       "      <td>3.737670</td>\n",
       "      <td>7.803843</td>\n",
       "    </tr>\n",
       "    <tr>\n",
       "      <th>1353</th>\n",
       "      <td>1</td>\n",
       "      <td>2</td>\n",
       "      <td>0.693147</td>\n",
       "      <td>1.098612</td>\n",
       "      <td>6.802395</td>\n",
       "      <td>4.127134</td>\n",
       "      <td>7.696213</td>\n",
       "    </tr>\n",
       "    <tr>\n",
       "      <th>558</th>\n",
       "      <td>3</td>\n",
       "      <td>9</td>\n",
       "      <td>0.693147</td>\n",
       "      <td>1.098612</td>\n",
       "      <td>7.438384</td>\n",
       "      <td>4.276666</td>\n",
       "      <td>8.629629</td>\n",
       "    </tr>\n",
       "    <tr>\n",
       "      <th>1430</th>\n",
       "      <td>1</td>\n",
       "      <td>5</td>\n",
       "      <td>0.916291</td>\n",
       "      <td>1.386294</td>\n",
       "      <td>7.478735</td>\n",
       "      <td>4.276666</td>\n",
       "      <td>7.955074</td>\n",
       "    </tr>\n",
       "    <tr>\n",
       "      <th>1379</th>\n",
       "      <td>1</td>\n",
       "      <td>1</td>\n",
       "      <td>0.000000</td>\n",
       "      <td>0.693147</td>\n",
       "      <td>7.090077</td>\n",
       "      <td>4.615121</td>\n",
       "      <td>7.824046</td>\n",
       "    </tr>\n",
       "    <tr>\n",
       "      <th>...</th>\n",
       "      <td>...</td>\n",
       "      <td>...</td>\n",
       "      <td>...</td>\n",
       "      <td>...</td>\n",
       "      <td>...</td>\n",
       "      <td>...</td>\n",
       "      <td>...</td>\n",
       "    </tr>\n",
       "    <tr>\n",
       "      <th>835</th>\n",
       "      <td>3</td>\n",
       "      <td>9</td>\n",
       "      <td>0.000000</td>\n",
       "      <td>0.693147</td>\n",
       "      <td>7.090077</td>\n",
       "      <td>4.276666</td>\n",
       "      <td>8.318742</td>\n",
       "    </tr>\n",
       "    <tr>\n",
       "      <th>1216</th>\n",
       "      <td>1</td>\n",
       "      <td>5</td>\n",
       "      <td>0.405465</td>\n",
       "      <td>0.693147</td>\n",
       "      <td>6.907755</td>\n",
       "      <td>3.637586</td>\n",
       "      <td>7.244228</td>\n",
       "    </tr>\n",
       "    <tr>\n",
       "      <th>1653</th>\n",
       "      <td>2</td>\n",
       "      <td>5</td>\n",
       "      <td>0.000000</td>\n",
       "      <td>0.000000</td>\n",
       "      <td>6.436150</td>\n",
       "      <td>4.158883</td>\n",
       "      <td>7.313220</td>\n",
       "    </tr>\n",
       "    <tr>\n",
       "      <th>559</th>\n",
       "      <td>3</td>\n",
       "      <td>10</td>\n",
       "      <td>0.000000</td>\n",
       "      <td>0.802637</td>\n",
       "      <td>7.033065</td>\n",
       "      <td>4.276666</td>\n",
       "      <td>7.762171</td>\n",
       "    </tr>\n",
       "    <tr>\n",
       "      <th>684</th>\n",
       "      <td>3</td>\n",
       "      <td>10</td>\n",
       "      <td>0.000000</td>\n",
       "      <td>1.098612</td>\n",
       "      <td>7.110696</td>\n",
       "      <td>4.276666</td>\n",
       "      <td>8.330864</td>\n",
       "    </tr>\n",
       "  </tbody>\n",
       "</table>\n",
       "<p>1525 rows × 7 columns</p>\n",
       "</div>"
      ],
      "text/plain": [
       "      city  zipcode  bathrooms  bedrooms      area      year     price\n",
       "1725     2        5   0.916291  0.693147  7.117206  3.737670  7.803843\n",
       "1353     1        2   0.693147  1.098612  6.802395  4.127134  7.696213\n",
       "558      3        9   0.693147  1.098612  7.438384  4.276666  8.629629\n",
       "1430     1        5   0.916291  1.386294  7.478735  4.276666  7.955074\n",
       "1379     1        1   0.000000  0.693147  7.090077  4.615121  7.824046\n",
       "...    ...      ...        ...       ...       ...       ...       ...\n",
       "835      3        9   0.000000  0.693147  7.090077  4.276666  8.318742\n",
       "1216     1        5   0.405465  0.693147  6.907755  3.637586  7.244228\n",
       "1653     2        5   0.000000  0.000000  6.436150  4.158883  7.313220\n",
       "559      3       10   0.000000  0.802637  7.033065  4.276666  7.762171\n",
       "684      3       10   0.000000  1.098612  7.110696  4.276666  8.330864\n",
       "\n",
       "[1525 rows x 7 columns]"
      ]
     },
     "execution_count": 82,
     "metadata": {},
     "output_type": "execute_result"
    }
   ],
   "source": [
    "# before feature situation:\n",
    "# categorical variables: (encoded) \"city\", \"zipcode\" \n",
    "# numerical variables (including target): (log transformed)\n",
    "X_train"
   ]
  },
  {
   "cell_type": "code",
   "execution_count": 83,
   "metadata": {},
   "outputs": [],
   "source": [
    "# what's to be done:\n",
    "# standard scale numeric variables except the target"
   ]
  },
  {
   "cell_type": "code",
   "execution_count": 84,
   "metadata": {},
   "outputs": [],
   "source": [
    "# for future comparison use\n",
    "X_train_before_scaled = X_train.copy()\n",
    "X_test_before_scaled = X_test.copy()"
   ]
  },
  {
   "cell_type": "code",
   "execution_count": 85,
   "metadata": {},
   "outputs": [
    {
     "data": {
      "text/plain": [
       "['city', 'zipcode', 'bathrooms', 'bedrooms', 'area', 'year']"
      ]
     },
     "execution_count": 85,
     "metadata": {},
     "output_type": "execute_result"
    }
   ],
   "source": [
    "# capture all variables in a list, except the target\n",
    "\n",
    "train_vars = [var for var in X_train.columns if var not in ['price']]\n",
    "train_vars"
   ]
  },
  {
   "cell_type": "code",
   "execution_count": 86,
   "metadata": {},
   "outputs": [],
   "source": [
    "# scaler, for standardization\n",
    "from sklearn.preprocessing import StandardScaler\n",
    "\n",
    "# set up the scaler\n",
    "scaler = StandardScaler()\n",
    "\n",
    "# fit the scaler to the training set\n",
    "scaler.fit(X_train[train_vars])\n",
    "\n",
    "# transform training and test sets\n",
    "X_train[train_vars] = scaler.transform(X_train[train_vars])\n",
    "X_test[train_vars] = scaler.transform(X_test[train_vars])"
   ]
  },
  {
   "cell_type": "code",
   "execution_count": 87,
   "metadata": {},
   "outputs": [
    {
     "data": {
      "text/plain": [
       "(array([1.49180328, 5.32196721, 0.37049545, 0.70222183, 6.98225032,\n",
       "        3.99793634]),\n",
       " array([1.10887553, 2.07607986, 0.40749742, 0.46211613, 0.46481783,\n",
       "        0.69128978]))"
      ]
     },
     "execution_count": 87,
     "metadata": {},
     "output_type": "execute_result"
    }
   ],
   "source": [
    "# the scaler stores the mean and sd of the features\n",
    "scaler.mean_, scaler.scale_"
   ]
  },
  {
   "cell_type": "code",
   "execution_count": 88,
   "metadata": {},
   "outputs": [],
   "source": [
    "# transform the NumPy arrays to dataframes\n",
    "X_train = pd.DataFrame(X_train, columns = X_train.columns)\n",
    "X_test = pd.DataFrame(X_test, columns = X_test.columns)"
   ]
  },
  {
   "cell_type": "code",
   "execution_count": 89,
   "metadata": {},
   "outputs": [
    {
     "data": {
      "text/html": [
       "<div>\n",
       "<style scoped>\n",
       "    .dataframe tbody tr th:only-of-type {\n",
       "        vertical-align: middle;\n",
       "    }\n",
       "\n",
       "    .dataframe tbody tr th {\n",
       "        vertical-align: top;\n",
       "    }\n",
       "\n",
       "    .dataframe thead th {\n",
       "        text-align: right;\n",
       "    }\n",
       "</style>\n",
       "<table border=\"1\" class=\"dataframe\">\n",
       "  <thead>\n",
       "    <tr style=\"text-align: right;\">\n",
       "      <th></th>\n",
       "      <th>city</th>\n",
       "      <th>zipcode</th>\n",
       "      <th>bathrooms</th>\n",
       "      <th>bedrooms</th>\n",
       "      <th>area</th>\n",
       "      <th>year</th>\n",
       "      <th>price</th>\n",
       "    </tr>\n",
       "  </thead>\n",
       "  <tbody>\n",
       "    <tr>\n",
       "      <th>1725</th>\n",
       "      <td>2</td>\n",
       "      <td>5</td>\n",
       "      <td>0.916291</td>\n",
       "      <td>0.693147</td>\n",
       "      <td>7.117206</td>\n",
       "      <td>3.737670</td>\n",
       "      <td>7.803843</td>\n",
       "    </tr>\n",
       "    <tr>\n",
       "      <th>1353</th>\n",
       "      <td>1</td>\n",
       "      <td>2</td>\n",
       "      <td>0.693147</td>\n",
       "      <td>1.098612</td>\n",
       "      <td>6.802395</td>\n",
       "      <td>4.127134</td>\n",
       "      <td>7.696213</td>\n",
       "    </tr>\n",
       "    <tr>\n",
       "      <th>558</th>\n",
       "      <td>3</td>\n",
       "      <td>9</td>\n",
       "      <td>0.693147</td>\n",
       "      <td>1.098612</td>\n",
       "      <td>7.438384</td>\n",
       "      <td>4.276666</td>\n",
       "      <td>8.629629</td>\n",
       "    </tr>\n",
       "    <tr>\n",
       "      <th>1430</th>\n",
       "      <td>1</td>\n",
       "      <td>5</td>\n",
       "      <td>0.916291</td>\n",
       "      <td>1.386294</td>\n",
       "      <td>7.478735</td>\n",
       "      <td>4.276666</td>\n",
       "      <td>7.955074</td>\n",
       "    </tr>\n",
       "    <tr>\n",
       "      <th>1379</th>\n",
       "      <td>1</td>\n",
       "      <td>1</td>\n",
       "      <td>0.000000</td>\n",
       "      <td>0.693147</td>\n",
       "      <td>7.090077</td>\n",
       "      <td>4.615121</td>\n",
       "      <td>7.824046</td>\n",
       "    </tr>\n",
       "    <tr>\n",
       "      <th>...</th>\n",
       "      <td>...</td>\n",
       "      <td>...</td>\n",
       "      <td>...</td>\n",
       "      <td>...</td>\n",
       "      <td>...</td>\n",
       "      <td>...</td>\n",
       "      <td>...</td>\n",
       "    </tr>\n",
       "    <tr>\n",
       "      <th>835</th>\n",
       "      <td>3</td>\n",
       "      <td>9</td>\n",
       "      <td>0.000000</td>\n",
       "      <td>0.693147</td>\n",
       "      <td>7.090077</td>\n",
       "      <td>4.276666</td>\n",
       "      <td>8.318742</td>\n",
       "    </tr>\n",
       "    <tr>\n",
       "      <th>1216</th>\n",
       "      <td>1</td>\n",
       "      <td>5</td>\n",
       "      <td>0.405465</td>\n",
       "      <td>0.693147</td>\n",
       "      <td>6.907755</td>\n",
       "      <td>3.637586</td>\n",
       "      <td>7.244228</td>\n",
       "    </tr>\n",
       "    <tr>\n",
       "      <th>1653</th>\n",
       "      <td>2</td>\n",
       "      <td>5</td>\n",
       "      <td>0.000000</td>\n",
       "      <td>0.000000</td>\n",
       "      <td>6.436150</td>\n",
       "      <td>4.158883</td>\n",
       "      <td>7.313220</td>\n",
       "    </tr>\n",
       "    <tr>\n",
       "      <th>559</th>\n",
       "      <td>3</td>\n",
       "      <td>10</td>\n",
       "      <td>0.000000</td>\n",
       "      <td>0.802637</td>\n",
       "      <td>7.033065</td>\n",
       "      <td>4.276666</td>\n",
       "      <td>7.762171</td>\n",
       "    </tr>\n",
       "    <tr>\n",
       "      <th>684</th>\n",
       "      <td>3</td>\n",
       "      <td>10</td>\n",
       "      <td>0.000000</td>\n",
       "      <td>1.098612</td>\n",
       "      <td>7.110696</td>\n",
       "      <td>4.276666</td>\n",
       "      <td>8.330864</td>\n",
       "    </tr>\n",
       "  </tbody>\n",
       "</table>\n",
       "<p>1525 rows × 7 columns</p>\n",
       "</div>"
      ],
      "text/plain": [
       "      city  zipcode  bathrooms  bedrooms      area      year     price\n",
       "1725     2        5   0.916291  0.693147  7.117206  3.737670  7.803843\n",
       "1353     1        2   0.693147  1.098612  6.802395  4.127134  7.696213\n",
       "558      3        9   0.693147  1.098612  7.438384  4.276666  8.629629\n",
       "1430     1        5   0.916291  1.386294  7.478735  4.276666  7.955074\n",
       "1379     1        1   0.000000  0.693147  7.090077  4.615121  7.824046\n",
       "...    ...      ...        ...       ...       ...       ...       ...\n",
       "835      3        9   0.000000  0.693147  7.090077  4.276666  8.318742\n",
       "1216     1        5   0.405465  0.693147  6.907755  3.637586  7.244228\n",
       "1653     2        5   0.000000  0.000000  6.436150  4.158883  7.313220\n",
       "559      3       10   0.000000  0.802637  7.033065  4.276666  7.762171\n",
       "684      3       10   0.000000  1.098612  7.110696  4.276666  8.330864\n",
       "\n",
       "[1525 rows x 7 columns]"
      ]
     },
     "execution_count": 89,
     "metadata": {},
     "output_type": "execute_result"
    }
   ],
   "source": [
    "X_train_before_scaled"
   ]
  },
  {
   "cell_type": "code",
   "execution_count": 90,
   "metadata": {},
   "outputs": [
    {
     "data": {
      "text/html": [
       "<div>\n",
       "<style scoped>\n",
       "    .dataframe tbody tr th:only-of-type {\n",
       "        vertical-align: middle;\n",
       "    }\n",
       "\n",
       "    .dataframe tbody tr th {\n",
       "        vertical-align: top;\n",
       "    }\n",
       "\n",
       "    .dataframe thead th {\n",
       "        text-align: right;\n",
       "    }\n",
       "</style>\n",
       "<table border=\"1\" class=\"dataframe\">\n",
       "  <thead>\n",
       "    <tr style=\"text-align: right;\">\n",
       "      <th></th>\n",
       "      <th>city</th>\n",
       "      <th>zipcode</th>\n",
       "      <th>bathrooms</th>\n",
       "      <th>bedrooms</th>\n",
       "      <th>area</th>\n",
       "      <th>year</th>\n",
       "      <th>price</th>\n",
       "    </tr>\n",
       "  </thead>\n",
       "  <tbody>\n",
       "    <tr>\n",
       "      <th>1725</th>\n",
       "      <td>0.458299</td>\n",
       "      <td>-0.155084</td>\n",
       "      <td>1.339383</td>\n",
       "      <td>-0.019637</td>\n",
       "      <td>0.290340</td>\n",
       "      <td>-0.376494</td>\n",
       "      <td>7.803843</td>\n",
       "    </tr>\n",
       "    <tr>\n",
       "      <th>1353</th>\n",
       "      <td>-0.443515</td>\n",
       "      <td>-1.600115</td>\n",
       "      <td>0.791788</td>\n",
       "      <td>0.857772</td>\n",
       "      <td>-0.386938</td>\n",
       "      <td>0.186894</td>\n",
       "      <td>7.696213</td>\n",
       "    </tr>\n",
       "    <tr>\n",
       "      <th>558</th>\n",
       "      <td>1.360114</td>\n",
       "      <td>1.771624</td>\n",
       "      <td>0.791788</td>\n",
       "      <td>0.857772</td>\n",
       "      <td>0.981316</td>\n",
       "      <td>0.403203</td>\n",
       "      <td>8.629629</td>\n",
       "    </tr>\n",
       "    <tr>\n",
       "      <th>1430</th>\n",
       "      <td>-0.443515</td>\n",
       "      <td>-0.155084</td>\n",
       "      <td>1.339383</td>\n",
       "      <td>1.480304</td>\n",
       "      <td>1.068127</td>\n",
       "      <td>0.403203</td>\n",
       "      <td>7.955074</td>\n",
       "    </tr>\n",
       "    <tr>\n",
       "      <th>1379</th>\n",
       "      <td>-0.443515</td>\n",
       "      <td>-2.081792</td>\n",
       "      <td>-0.909197</td>\n",
       "      <td>-0.019637</td>\n",
       "      <td>0.231976</td>\n",
       "      <td>0.892801</td>\n",
       "      <td>7.824046</td>\n",
       "    </tr>\n",
       "    <tr>\n",
       "      <th>...</th>\n",
       "      <td>...</td>\n",
       "      <td>...</td>\n",
       "      <td>...</td>\n",
       "      <td>...</td>\n",
       "      <td>...</td>\n",
       "      <td>...</td>\n",
       "      <td>...</td>\n",
       "    </tr>\n",
       "    <tr>\n",
       "      <th>835</th>\n",
       "      <td>1.360114</td>\n",
       "      <td>1.771624</td>\n",
       "      <td>-0.909197</td>\n",
       "      <td>-0.019637</td>\n",
       "      <td>0.231976</td>\n",
       "      <td>0.403203</td>\n",
       "      <td>8.318742</td>\n",
       "    </tr>\n",
       "    <tr>\n",
       "      <th>1216</th>\n",
       "      <td>-0.443515</td>\n",
       "      <td>-0.155084</td>\n",
       "      <td>0.085816</td>\n",
       "      <td>-0.019637</td>\n",
       "      <td>-0.160267</td>\n",
       "      <td>-0.521272</td>\n",
       "      <td>7.244228</td>\n",
       "    </tr>\n",
       "    <tr>\n",
       "      <th>1653</th>\n",
       "      <td>0.458299</td>\n",
       "      <td>-0.155084</td>\n",
       "      <td>-0.909197</td>\n",
       "      <td>-1.519579</td>\n",
       "      <td>-1.174869</td>\n",
       "      <td>0.232821</td>\n",
       "      <td>7.313220</td>\n",
       "    </tr>\n",
       "    <tr>\n",
       "      <th>559</th>\n",
       "      <td>1.360114</td>\n",
       "      <td>2.253301</td>\n",
       "      <td>-0.909197</td>\n",
       "      <td>0.217293</td>\n",
       "      <td>0.109323</td>\n",
       "      <td>0.403203</td>\n",
       "      <td>7.762171</td>\n",
       "    </tr>\n",
       "    <tr>\n",
       "      <th>684</th>\n",
       "      <td>1.360114</td>\n",
       "      <td>2.253301</td>\n",
       "      <td>-0.909197</td>\n",
       "      <td>0.857772</td>\n",
       "      <td>0.276336</td>\n",
       "      <td>0.403203</td>\n",
       "      <td>8.330864</td>\n",
       "    </tr>\n",
       "  </tbody>\n",
       "</table>\n",
       "<p>1525 rows × 7 columns</p>\n",
       "</div>"
      ],
      "text/plain": [
       "          city   zipcode  bathrooms  bedrooms      area      year     price\n",
       "1725  0.458299 -0.155084   1.339383 -0.019637  0.290340 -0.376494  7.803843\n",
       "1353 -0.443515 -1.600115   0.791788  0.857772 -0.386938  0.186894  7.696213\n",
       "558   1.360114  1.771624   0.791788  0.857772  0.981316  0.403203  8.629629\n",
       "1430 -0.443515 -0.155084   1.339383  1.480304  1.068127  0.403203  7.955074\n",
       "1379 -0.443515 -2.081792  -0.909197 -0.019637  0.231976  0.892801  7.824046\n",
       "...        ...       ...        ...       ...       ...       ...       ...\n",
       "835   1.360114  1.771624  -0.909197 -0.019637  0.231976  0.403203  8.318742\n",
       "1216 -0.443515 -0.155084   0.085816 -0.019637 -0.160267 -0.521272  7.244228\n",
       "1653  0.458299 -0.155084  -0.909197 -1.519579 -1.174869  0.232821  7.313220\n",
       "559   1.360114  2.253301  -0.909197  0.217293  0.109323  0.403203  7.762171\n",
       "684   1.360114  2.253301  -0.909197  0.857772  0.276336  0.403203  8.330864\n",
       "\n",
       "[1525 rows x 7 columns]"
      ]
     },
     "execution_count": 90,
     "metadata": {},
     "output_type": "execute_result"
    }
   ],
   "source": [
    "X_train"
   ]
  },
  {
   "cell_type": "code",
   "execution_count": 91,
   "metadata": {},
   "outputs": [
    {
     "data": {
      "image/png": "[encoded data removed]",
      "text/plain": [
       "<Figure size 864x360 with 2 Axes>"
      ]
     },
     "metadata": {
      "needs_background": "light"
     },
     "output_type": "display_data"
    }
   ],
   "source": [
    "# compare the variable distributions before and after scaling\n",
    "\n",
    "fig, (ax1, ax2) = plt.subplots(ncols=2, figsize=(12,5))\n",
    "\n",
    "# before scaling\n",
    "ax1.set_title('Before Scaling')\n",
    "sns.kdeplot(X_train_before_scaled['bedrooms'], ax=ax1)\n",
    "sns.kdeplot(X_train_before_scaled['bathrooms'], ax=ax1)\n",
    "sns.kdeplot(X_train_before_scaled['area'], ax=ax1)\n",
    "sns.kdeplot(X_train_before_scaled['year'], ax=ax1)\n",
    "sns.kdeplot(X_train_before_scaled['price'], ax=ax1)\n",
    "\n",
    "# after scaling\n",
    "ax2.set_title('After Scaling')\n",
    "sns.kdeplot(X_train['bedrooms'], ax=ax2)\n",
    "sns.kdeplot(X_train['bathrooms'], ax=ax2)\n",
    "sns.kdeplot(X_train['area'], ax=ax2, )\n",
    "sns.kdeplot(X_train['year'], ax=ax2)\n",
    "sns.kdeplot(X_train['price'], ax=ax2)\n",
    "plt.show()"
   ]
  },
  {
   "cell_type": "code",
   "execution_count": 92,
   "metadata": {},
   "outputs": [
    {
     "data": {
      "image/png": "[encoded data removed]",
      "text/plain": [
       "<Figure size 432x288 with 1 Axes>"
      ]
     },
     "metadata": {
      "needs_background": "light"
     },
     "output_type": "display_data"
    }
   ],
   "source": [
    "# check linear relationships before log transformation\n",
    "# before\n",
    "plt.scatter(X_train_before_log['area'], X_train_before_log['price'])\n",
    "plt.show()"
   ]
  },
  {
   "cell_type": "code",
   "execution_count": 93,
   "metadata": {},
   "outputs": [
    {
     "data": {
      "image/png": "[encoded data removed]",
      "text/plain": [
       "<Figure size 432x288 with 1 Axes>"
      ]
     },
     "metadata": {
      "needs_background": "light"
     },
     "output_type": "display_data"
    }
   ],
   "source": [
    "# check linear relationships before scaling\n",
    "# before\n",
    "plt.scatter(X_train_before_scaled['area'], X_train_before_scaled['price'])\n",
    "plt.show()"
   ]
  },
  {
   "cell_type": "code",
   "execution_count": 94,
   "metadata": {},
   "outputs": [
    {
     "data": {
      "image/png": "[encoded data removed]",
      "text/plain": [
       "<Figure size 432x288 with 1 Axes>"
      ]
     },
     "metadata": {
      "needs_background": "light"
     },
     "output_type": "display_data"
    }
   ],
   "source": [
    "# after\n",
    "plt.scatter(X_train['area'], X_train['price'])\n",
    "plt.show()"
   ]
  },
  {
   "cell_type": "markdown",
   "metadata": {},
   "source": [
    "##### save to csv for future model building use"
   ]
  },
  {
   "cell_type": "code",
   "execution_count": 95,
   "metadata": {},
   "outputs": [],
   "source": [
    "X_train.to_csv('x_train.csv', index=False)\n",
    "X_test.to_csv('x_test.csv', index=False)"
   ]
  }
 ],
 "metadata": {
  "kernelspec": {
   "display_name": "Python 3",
   "language": "python",
   "name": "python3"
  },
  "language_info": {
   "codemirror_mode": {
    "name": "ipython",
    "version": 3
   },
   "file_extension": ".py",
   "mimetype": "text/x-python",
   "name": "python",
   "nbconvert_exporter": "python",
   "pygments_lexer": "ipython3",
   "version": "3.7.3"
  }
 },
 "nbformat": 4,
 "nbformat_minor": 2
}
