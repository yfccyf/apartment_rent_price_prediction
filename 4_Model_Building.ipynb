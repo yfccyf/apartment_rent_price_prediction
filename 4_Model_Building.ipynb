{
 "cells": [
  {
   "cell_type": "code",
   "execution_count": 1,
   "metadata": {},
   "outputs": [],
   "source": [
    "import pandas as pd\n",
    "import numpy as np\n",
    "import matplotlib.pyplot as plt\n",
    "import seaborn as sns"
   ]
  },
  {
   "cell_type": "code",
   "execution_count": 2,
   "metadata": {},
   "outputs": [],
   "source": [
    "import warnings\n",
    "warnings.filterwarnings(\"ignore\")"
   ]
  },
  {
   "cell_type": "code",
   "execution_count": 3,
   "metadata": {},
   "outputs": [],
   "source": [
    "X_train = pd.read_csv('x_train.csv')\n",
    "X_test = pd.read_csv('x_test.csv')"
   ]
  },
  {
   "cell_type": "code",
   "execution_count": 4,
   "metadata": {},
   "outputs": [
    {
     "data": {
      "text/plain": [
       "((1525, 7), (382, 7))"
      ]
     },
     "execution_count": 4,
     "metadata": {},
     "output_type": "execute_result"
    }
   ],
   "source": [
    "X_train.shape, X_test.shape"
   ]
  },
  {
   "cell_type": "code",
   "execution_count": 5,
   "metadata": {},
   "outputs": [
    {
     "data": {
      "text/html": [
       "<div>\n",
       "<style scoped>\n",
       "    .dataframe tbody tr th:only-of-type {\n",
       "        vertical-align: middle;\n",
       "    }\n",
       "\n",
       "    .dataframe tbody tr th {\n",
       "        vertical-align: top;\n",
       "    }\n",
       "\n",
       "    .dataframe thead th {\n",
       "        text-align: right;\n",
       "    }\n",
       "</style>\n",
       "<table border=\"1\" class=\"dataframe\">\n",
       "  <thead>\n",
       "    <tr style=\"text-align: right;\">\n",
       "      <th></th>\n",
       "      <th>city</th>\n",
       "      <th>zipcode</th>\n",
       "      <th>bathrooms</th>\n",
       "      <th>bedrooms</th>\n",
       "      <th>area</th>\n",
       "      <th>year</th>\n",
       "      <th>price</th>\n",
       "    </tr>\n",
       "  </thead>\n",
       "  <tbody>\n",
       "    <tr>\n",
       "      <th>0</th>\n",
       "      <td>0.458299</td>\n",
       "      <td>-0.155084</td>\n",
       "      <td>1.339383</td>\n",
       "      <td>-0.019637</td>\n",
       "      <td>0.290340</td>\n",
       "      <td>-0.376494</td>\n",
       "      <td>7.803843</td>\n",
       "    </tr>\n",
       "    <tr>\n",
       "      <th>1</th>\n",
       "      <td>-0.443515</td>\n",
       "      <td>-1.600115</td>\n",
       "      <td>0.791788</td>\n",
       "      <td>0.857772</td>\n",
       "      <td>-0.386938</td>\n",
       "      <td>0.186894</td>\n",
       "      <td>7.696213</td>\n",
       "    </tr>\n",
       "    <tr>\n",
       "      <th>2</th>\n",
       "      <td>1.360114</td>\n",
       "      <td>1.771624</td>\n",
       "      <td>0.791788</td>\n",
       "      <td>0.857772</td>\n",
       "      <td>0.981316</td>\n",
       "      <td>0.403203</td>\n",
       "      <td>8.629629</td>\n",
       "    </tr>\n",
       "    <tr>\n",
       "      <th>3</th>\n",
       "      <td>-0.443515</td>\n",
       "      <td>-0.155084</td>\n",
       "      <td>1.339383</td>\n",
       "      <td>1.480304</td>\n",
       "      <td>1.068127</td>\n",
       "      <td>0.403203</td>\n",
       "      <td>7.955074</td>\n",
       "    </tr>\n",
       "    <tr>\n",
       "      <th>4</th>\n",
       "      <td>-0.443515</td>\n",
       "      <td>-2.081792</td>\n",
       "      <td>-0.909197</td>\n",
       "      <td>-0.019637</td>\n",
       "      <td>0.231976</td>\n",
       "      <td>0.892801</td>\n",
       "      <td>7.824046</td>\n",
       "    </tr>\n",
       "    <tr>\n",
       "      <th>...</th>\n",
       "      <td>...</td>\n",
       "      <td>...</td>\n",
       "      <td>...</td>\n",
       "      <td>...</td>\n",
       "      <td>...</td>\n",
       "      <td>...</td>\n",
       "      <td>...</td>\n",
       "    </tr>\n",
       "    <tr>\n",
       "      <th>1520</th>\n",
       "      <td>1.360114</td>\n",
       "      <td>1.771624</td>\n",
       "      <td>-0.909197</td>\n",
       "      <td>-0.019637</td>\n",
       "      <td>0.231976</td>\n",
       "      <td>0.403203</td>\n",
       "      <td>8.318742</td>\n",
       "    </tr>\n",
       "    <tr>\n",
       "      <th>1521</th>\n",
       "      <td>-0.443515</td>\n",
       "      <td>-0.155084</td>\n",
       "      <td>0.085816</td>\n",
       "      <td>-0.019637</td>\n",
       "      <td>-0.160267</td>\n",
       "      <td>-0.521272</td>\n",
       "      <td>7.244228</td>\n",
       "    </tr>\n",
       "    <tr>\n",
       "      <th>1522</th>\n",
       "      <td>0.458299</td>\n",
       "      <td>-0.155084</td>\n",
       "      <td>-0.909197</td>\n",
       "      <td>-1.519579</td>\n",
       "      <td>-1.174869</td>\n",
       "      <td>0.232821</td>\n",
       "      <td>7.313220</td>\n",
       "    </tr>\n",
       "    <tr>\n",
       "      <th>1523</th>\n",
       "      <td>1.360114</td>\n",
       "      <td>2.253301</td>\n",
       "      <td>-0.909197</td>\n",
       "      <td>0.217293</td>\n",
       "      <td>0.109323</td>\n",
       "      <td>0.403203</td>\n",
       "      <td>7.762171</td>\n",
       "    </tr>\n",
       "    <tr>\n",
       "      <th>1524</th>\n",
       "      <td>1.360114</td>\n",
       "      <td>2.253301</td>\n",
       "      <td>-0.909197</td>\n",
       "      <td>0.857772</td>\n",
       "      <td>0.276336</td>\n",
       "      <td>0.403203</td>\n",
       "      <td>8.330864</td>\n",
       "    </tr>\n",
       "  </tbody>\n",
       "</table>\n",
       "<p>1525 rows × 7 columns</p>\n",
       "</div>"
      ],
      "text/plain": [
       "          city   zipcode  bathrooms  bedrooms      area      year     price\n",
       "0     0.458299 -0.155084   1.339383 -0.019637  0.290340 -0.376494  7.803843\n",
       "1    -0.443515 -1.600115   0.791788  0.857772 -0.386938  0.186894  7.696213\n",
       "2     1.360114  1.771624   0.791788  0.857772  0.981316  0.403203  8.629629\n",
       "3    -0.443515 -0.155084   1.339383  1.480304  1.068127  0.403203  7.955074\n",
       "4    -0.443515 -2.081792  -0.909197 -0.019637  0.231976  0.892801  7.824046\n",
       "...        ...       ...        ...       ...       ...       ...       ...\n",
       "1520  1.360114  1.771624  -0.909197 -0.019637  0.231976  0.403203  8.318742\n",
       "1521 -0.443515 -0.155084   0.085816 -0.019637 -0.160267 -0.521272  7.244228\n",
       "1522  0.458299 -0.155084  -0.909197 -1.519579 -1.174869  0.232821  7.313220\n",
       "1523  1.360114  2.253301  -0.909197  0.217293  0.109323  0.403203  7.762171\n",
       "1524  1.360114  2.253301  -0.909197  0.857772  0.276336  0.403203  8.330864\n",
       "\n",
       "[1525 rows x 7 columns]"
      ]
     },
     "execution_count": 5,
     "metadata": {},
     "output_type": "execute_result"
    }
   ],
   "source": [
    "X_train"
   ]
  },
  {
   "cell_type": "code",
   "execution_count": 6,
   "metadata": {},
   "outputs": [
    {
     "data": {
      "text/html": [
       "<div>\n",
       "<style scoped>\n",
       "    .dataframe tbody tr th:only-of-type {\n",
       "        vertical-align: middle;\n",
       "    }\n",
       "\n",
       "    .dataframe tbody tr th {\n",
       "        vertical-align: top;\n",
       "    }\n",
       "\n",
       "    .dataframe thead th {\n",
       "        text-align: right;\n",
       "    }\n",
       "</style>\n",
       "<table border=\"1\" class=\"dataframe\">\n",
       "  <thead>\n",
       "    <tr style=\"text-align: right;\">\n",
       "      <th></th>\n",
       "      <th>city</th>\n",
       "      <th>zipcode</th>\n",
       "      <th>bathrooms</th>\n",
       "      <th>bedrooms</th>\n",
       "      <th>area</th>\n",
       "      <th>year</th>\n",
       "      <th>price</th>\n",
       "    </tr>\n",
       "  </thead>\n",
       "  <tbody>\n",
       "    <tr>\n",
       "      <th>0</th>\n",
       "      <td>-0.443515</td>\n",
       "      <td>-0.155084</td>\n",
       "      <td>0.791788</td>\n",
       "      <td>-0.019637</td>\n",
       "      <td>-0.055301</td>\n",
       "      <td>-1.965715</td>\n",
       "      <td>7.600902</td>\n",
       "    </tr>\n",
       "    <tr>\n",
       "      <th>1</th>\n",
       "      <td>0.458299</td>\n",
       "      <td>-0.155084</td>\n",
       "      <td>0.791788</td>\n",
       "      <td>-0.019637</td>\n",
       "      <td>0.177508</td>\n",
       "      <td>-1.965715</td>\n",
       "      <td>7.937375</td>\n",
       "    </tr>\n",
       "    <tr>\n",
       "      <th>2</th>\n",
       "      <td>-0.443515</td>\n",
       "      <td>-0.155084</td>\n",
       "      <td>0.085816</td>\n",
       "      <td>-1.519579</td>\n",
       "      <td>-0.472273</td>\n",
       "      <td>0.403203</td>\n",
       "      <td>7.783224</td>\n",
       "    </tr>\n",
       "    <tr>\n",
       "      <th>3</th>\n",
       "      <td>-0.443515</td>\n",
       "      <td>-0.636761</td>\n",
       "      <td>-0.909197</td>\n",
       "      <td>-1.519579</td>\n",
       "      <td>-0.822644</td>\n",
       "      <td>0.403203</td>\n",
       "      <td>7.374629</td>\n",
       "    </tr>\n",
       "    <tr>\n",
       "      <th>4</th>\n",
       "      <td>-1.345330</td>\n",
       "      <td>-0.155084</td>\n",
       "      <td>-0.909197</td>\n",
       "      <td>-1.519579</td>\n",
       "      <td>-1.887744</td>\n",
       "      <td>-0.559850</td>\n",
       "      <td>6.745236</td>\n",
       "    </tr>\n",
       "    <tr>\n",
       "      <th>...</th>\n",
       "      <td>...</td>\n",
       "      <td>...</td>\n",
       "      <td>...</td>\n",
       "      <td>...</td>\n",
       "      <td>...</td>\n",
       "      <td>...</td>\n",
       "      <td>...</td>\n",
       "    </tr>\n",
       "    <tr>\n",
       "      <th>377</th>\n",
       "      <td>0.458299</td>\n",
       "      <td>-0.155084</td>\n",
       "      <td>0.791788</td>\n",
       "      <td>1.480304</td>\n",
       "      <td>1.330956</td>\n",
       "      <td>0.442837</td>\n",
       "      <td>8.070906</td>\n",
       "    </tr>\n",
       "    <tr>\n",
       "      <th>378</th>\n",
       "      <td>-0.443515</td>\n",
       "      <td>0.326593</td>\n",
       "      <td>0.791788</td>\n",
       "      <td>-0.019637</td>\n",
       "      <td>0.423946</td>\n",
       "      <td>-0.342456</td>\n",
       "      <td>8.055158</td>\n",
       "    </tr>\n",
       "    <tr>\n",
       "      <th>379</th>\n",
       "      <td>1.360114</td>\n",
       "      <td>0.808270</td>\n",
       "      <td>-0.909197</td>\n",
       "      <td>0.857772</td>\n",
       "      <td>0.501249</td>\n",
       "      <td>0.573584</td>\n",
       "      <td>8.255828</td>\n",
       "    </tr>\n",
       "    <tr>\n",
       "      <th>380</th>\n",
       "      <td>1.360114</td>\n",
       "      <td>1.771624</td>\n",
       "      <td>-0.909197</td>\n",
       "      <td>-1.519579</td>\n",
       "      <td>0.109323</td>\n",
       "      <td>0.403203</td>\n",
       "      <td>8.160518</td>\n",
       "    </tr>\n",
       "    <tr>\n",
       "      <th>381</th>\n",
       "      <td>1.360114</td>\n",
       "      <td>2.253301</td>\n",
       "      <td>-0.909197</td>\n",
       "      <td>0.857772</td>\n",
       "      <td>0.563613</td>\n",
       "      <td>0.403203</td>\n",
       "      <td>8.411833</td>\n",
       "    </tr>\n",
       "  </tbody>\n",
       "</table>\n",
       "<p>382 rows × 7 columns</p>\n",
       "</div>"
      ],
      "text/plain": [
       "         city   zipcode  bathrooms  bedrooms      area      year     price\n",
       "0   -0.443515 -0.155084   0.791788 -0.019637 -0.055301 -1.965715  7.600902\n",
       "1    0.458299 -0.155084   0.791788 -0.019637  0.177508 -1.965715  7.937375\n",
       "2   -0.443515 -0.155084   0.085816 -1.519579 -0.472273  0.403203  7.783224\n",
       "3   -0.443515 -0.636761  -0.909197 -1.519579 -0.822644  0.403203  7.374629\n",
       "4   -1.345330 -0.155084  -0.909197 -1.519579 -1.887744 -0.559850  6.745236\n",
       "..        ...       ...        ...       ...       ...       ...       ...\n",
       "377  0.458299 -0.155084   0.791788  1.480304  1.330956  0.442837  8.070906\n",
       "378 -0.443515  0.326593   0.791788 -0.019637  0.423946 -0.342456  8.055158\n",
       "379  1.360114  0.808270  -0.909197  0.857772  0.501249  0.573584  8.255828\n",
       "380  1.360114  1.771624  -0.909197 -1.519579  0.109323  0.403203  8.160518\n",
       "381  1.360114  2.253301  -0.909197  0.857772  0.563613  0.403203  8.411833\n",
       "\n",
       "[382 rows x 7 columns]"
      ]
     },
     "execution_count": 6,
     "metadata": {},
     "output_type": "execute_result"
    }
   ],
   "source": [
    "X_test"
   ]
  },
  {
   "cell_type": "code",
   "execution_count": 7,
   "metadata": {},
   "outputs": [
    {
     "name": "stdout",
     "output_type": "stream",
     "text": [
      "0       7.803843\n",
      "1       7.696213\n",
      "2       8.629629\n",
      "3       7.955074\n",
      "4       7.824046\n",
      "          ...   \n",
      "1520    8.318742\n",
      "1521    7.244228\n",
      "1522    7.313220\n",
      "1523    7.762171\n",
      "1524    8.330864\n",
      "Name: price, Length: 1525, dtype: float64\n"
     ]
    }
   ],
   "source": [
    "# capture the target\n",
    "y_train = X_train['price']\n",
    "y_test = X_test['price']\n",
    "print(y_train)"
   ]
  },
  {
   "cell_type": "code",
   "execution_count": 8,
   "metadata": {},
   "outputs": [],
   "source": [
    "X_train = X_train.drop(columns=['price'])\n",
    "X_test = X_test.drop(columns=['price'])"
   ]
  },
  {
   "cell_type": "markdown",
   "metadata": {},
   "source": [
    "# Model Building"
   ]
  },
  {
   "cell_type": "markdown",
   "metadata": {},
   "source": [
    "### Plan:"
   ]
  },
  {
   "cell_type": "code",
   "execution_count": 9,
   "metadata": {},
   "outputs": [],
   "source": [
    "\n",
    "# Multiple linear regression\n",
    "from sklearn.linear_model import LinearRegression\n",
    "\n",
    "# Ridge regression\n",
    "from sklearn.linear_model import Ridge\n",
    "\n",
    "# Lasso regression\n",
    "from sklearn.linear_model import Lasso\n",
    "\n",
    "# Polynomial regression\n",
    "from sklearn.preprocessing import PolynomialFeatures\n",
    "\n",
    "# SVR\n",
    "from sklearn.svm import SVR\n",
    "\n",
    "# Decision Tree regression\n",
    "from sklearn.tree import DecisionTreeRegressor\n",
    "\n",
    "# Random Forest regression\n",
    "from sklearn.ensemble import RandomForestRegressor\n",
    "\n",
    "# to evaluate the model\n",
    "from sklearn.metrics import mean_squared_error, r2_score\n",
    "from math import sqrt"
   ]
  },
  {
   "cell_type": "markdown",
   "metadata": {},
   "source": [
    "### Multiple Linear Regression"
   ]
  },
  {
   "cell_type": "code",
   "execution_count": 10,
   "metadata": {},
   "outputs": [
    {
     "data": {
      "text/plain": [
       "LinearRegression()"
      ]
     },
     "execution_count": 10,
     "metadata": {},
     "output_type": "execute_result"
    }
   ],
   "source": [
    "lm = LinearRegression()\n",
    "lm.fit(X_train, y_train)"
   ]
  },
  {
   "cell_type": "code",
   "execution_count": 11,
   "metadata": {},
   "outputs": [
    {
     "name": "stdout",
     "output_type": "stream",
     "text": [
      "train mse: 411280\n",
      "train rmse: 641\n",
      "train r2: 0.6726833560560685\n",
      "\n",
      "test mse: 488845\n",
      "test rmse: 699\n",
      "test r2: 0.6609573882947357\n",
      "\n"
     ]
    }
   ],
   "source": [
    "# evaluate the model\n",
    "\n",
    "# transform target and predictions (log) back to original\n",
    "\n",
    "# we evaluate using the mean squared error,\n",
    "# the root of the mean squared error, and r2\n",
    "\n",
    "# make predictions for train set\n",
    "pred = lm.predict(X_train)\n",
    "\n",
    "# determine mse and rmse\n",
    "print('train mse: {}'.format(int(\n",
    "    mean_squared_error(np.exp(y_train), np.exp(pred)))))\n",
    "print('train rmse: {}'.format(int(\n",
    "    sqrt(mean_squared_error(np.exp(y_train), np.exp(pred))))))\n",
    "print('train r2: {}'.format(\n",
    "    r2_score(np.exp(y_train), np.exp(pred))))\n",
    "print()\n",
    "\n",
    "# make predictions for test set\n",
    "pred = lm.predict(X_test)\n",
    "\n",
    "# determine mse and rmse\n",
    "print('test mse: {}'.format(int(\n",
    "    mean_squared_error(np.exp(y_test), np.exp(pred)))))\n",
    "print('test rmse: {}'.format(int(\n",
    "    sqrt(mean_squared_error(np.exp(y_test), np.exp(pred))))))\n",
    "print('test r2: {}'.format(\n",
    "    r2_score(np.exp(y_test), np.exp(pred))))\n",
    "print()"
   ]
  },
  {
   "cell_type": "code",
   "execution_count": 12,
   "metadata": {},
   "outputs": [
    {
     "data": {
      "text/plain": [
       "Text(0.5, 1.0, 'Evaluation of Linear Regression Predictions')"
      ]
     },
     "execution_count": 12,
     "metadata": {},
     "output_type": "execute_result"
    },
    {
     "data": {
      "image/png": "[encoded data removed]",
      "text/plain": [
       "<Figure size 432x288 with 1 Axes>"
      ]
     },
     "metadata": {
      "needs_background": "light"
     },
     "output_type": "display_data"
    }
   ],
   "source": [
    "# evaluate the predictions respect to the real values\n",
    "plt.scatter(y_test, lm.predict(X_test))\n",
    "plt.xlabel('True Price')\n",
    "plt.ylabel('Predicted Price')\n",
    "plt.title('Evaluation of Linear Regression Predictions')"
   ]
  },
  {
   "cell_type": "code",
   "execution_count": 13,
   "metadata": {},
   "outputs": [
    {
     "data": {
      "text/plain": [
       "<matplotlib.axes._subplots.AxesSubplot at 0x21b13b56a90>"
      ]
     },
     "execution_count": 13,
     "metadata": {},
     "output_type": "execute_result"
    },
    {
     "data": {
      "image/png": "[encoded data removed]",
      "text/plain": [
       "<Figure size 432x288 with 1 Axes>"
      ]
     },
     "metadata": {
      "needs_background": "light"
     },
     "output_type": "display_data"
    }
   ],
   "source": [
    "# evaluate the distribution of the errors:\n",
    "# they should be fairly normally distributed\n",
    "\n",
    "errors = y_test - lm.predict(X_test)\n",
    "errors.hist(bins=30)"
   ]
  },
  {
   "cell_type": "code",
   "execution_count": 14,
   "metadata": {},
   "outputs": [
    {
     "data": {
      "text/plain": [
       "Text(0.5, 1.0, 'Feature Importance')"
      ]
     },
     "execution_count": 14,
     "metadata": {},
     "output_type": "execute_result"
    },
    {
     "data": {
      "image/png": "[encoded data removed]",
      "text/plain": [
       "<Figure size 1296x432 with 1 Axes>"
      ]
     },
     "metadata": {
      "needs_background": "light"
     },
     "output_type": "display_data"
    }
   ],
   "source": [
    "# Finally, just for fun, let's look at the feature importance\n",
    "\n",
    "importance = pd.Series(np.abs(lm.coef_.ravel()))\n",
    "importance.index = ['city', 'zipcode', 'bathrooms', 'bedrooms', 'area', 'year']\n",
    "importance.sort_values(inplace=True, ascending=False)\n",
    "importance.plot.bar(figsize=(18,6))\n",
    "plt.ylabel('Lm Coefficients')\n",
    "plt.title('Feature Importance')"
   ]
  },
  {
   "cell_type": "markdown",
   "metadata": {},
   "source": [
    "### Regularization: Lasso Regression"
   ]
  },
  {
   "cell_type": "code",
   "execution_count": 15,
   "metadata": {},
   "outputs": [
    {
     "data": {
      "text/plain": [
       "Lasso(alpha=0.005, random_state=0)"
      ]
     },
     "execution_count": 15,
     "metadata": {},
     "output_type": "execute_result"
    }
   ],
   "source": [
    "l1 = Lasso(alpha=0.005, random_state=0)\n",
    "\n",
    "l1.fit(X_train, y_train)"
   ]
  },
  {
   "cell_type": "code",
   "execution_count": 16,
   "metadata": {},
   "outputs": [
    {
     "name": "stdout",
     "output_type": "stream",
     "text": [
      "train mse: 414118\n",
      "train rmse: 643\n",
      "train r2: 0.6704244126197878\n",
      "\n",
      "test mse: 495973\n",
      "test rmse: 704\n",
      "test r2: 0.656013826121537\n",
      "\n"
     ]
    }
   ],
   "source": [
    "# evaluate the model\n",
    "\n",
    "# transform target and predictions (log) back to original\n",
    "\n",
    "# we evaluate using the mean squared error,\n",
    "# the root of the mean squared error, and r2\n",
    "\n",
    "# make predictions for train set\n",
    "pred = l1.predict(X_train)\n",
    "\n",
    "# determine mse and rmse\n",
    "print('train mse: {}'.format(int(\n",
    "    mean_squared_error(np.exp(y_train), np.exp(pred)))))\n",
    "print('train rmse: {}'.format(int(\n",
    "    sqrt(mean_squared_error(np.exp(y_train), np.exp(pred))))))\n",
    "print('train r2: {}'.format(\n",
    "    r2_score(np.exp(y_train), np.exp(pred))))\n",
    "print()\n",
    "\n",
    "# make predictions for test set\n",
    "pred = l1.predict(X_test)\n",
    "\n",
    "# determine mse and rmse\n",
    "print('test mse: {}'.format(int(\n",
    "    mean_squared_error(np.exp(y_test), np.exp(pred)))))\n",
    "print('test rmse: {}'.format(int(\n",
    "    sqrt(mean_squared_error(np.exp(y_test), np.exp(pred))))))\n",
    "print('test r2: {}'.format(\n",
    "    r2_score(np.exp(y_test), np.exp(pred))))\n",
    "print()"
   ]
  },
  {
   "cell_type": "code",
   "execution_count": 17,
   "metadata": {},
   "outputs": [
    {
     "data": {
      "text/plain": [
       "Text(0.5, 1.0, 'Evaluation of Lasso Regression Predictions')"
      ]
     },
     "execution_count": 17,
     "metadata": {},
     "output_type": "execute_result"
    },
    {
     "data": {
      "image/png": "[encoded data removed]",
      "text/plain": [
       "<Figure size 432x288 with 1 Axes>"
      ]
     },
     "metadata": {
      "needs_background": "light"
     },
     "output_type": "display_data"
    }
   ],
   "source": [
    "# evaluate the predictions respect to the real values\n",
    "plt.scatter(y_test, l1.predict(X_test))\n",
    "plt.xlabel('True Price')\n",
    "plt.ylabel('Predicted Price')\n",
    "plt.title('Evaluation of Lasso Regression Predictions')"
   ]
  },
  {
   "cell_type": "markdown",
   "metadata": {},
   "source": [
    "### Regularization: Ridge Regression"
   ]
  },
  {
   "cell_type": "code",
   "execution_count": 18,
   "metadata": {},
   "outputs": [
    {
     "data": {
      "text/plain": [
       "Ridge(alpha=0.005, random_state=0)"
      ]
     },
     "execution_count": 18,
     "metadata": {},
     "output_type": "execute_result"
    }
   ],
   "source": [
    "l2 = Ridge(alpha=0.005, random_state=0)\n",
    "l2.fit(X_train, y_train)"
   ]
  },
  {
   "cell_type": "code",
   "execution_count": 19,
   "metadata": {},
   "outputs": [
    {
     "name": "stdout",
     "output_type": "stream",
     "text": [
      "train mse: 411280\n",
      "train rmse: 641\n",
      "train r2: 0.6726833763462601\n",
      "\n",
      "test mse: 488846\n",
      "test rmse: 699\n",
      "test r2: 0.6609569241656668\n",
      "\n"
     ]
    }
   ],
   "source": [
    "# evaluate the model\n",
    "\n",
    "# transform target and predictions (log) back to original\n",
    "\n",
    "# we evaluate using the mean squared error,\n",
    "# the root of the mean squared error, and r2\n",
    "\n",
    "# make predictions for train set\n",
    "pred = l2.predict(X_train)\n",
    "\n",
    "# determine mse and rmse\n",
    "print('train mse: {}'.format(int(\n",
    "    mean_squared_error(np.exp(y_train), np.exp(pred)))))\n",
    "print('train rmse: {}'.format(int(\n",
    "    sqrt(mean_squared_error(np.exp(y_train), np.exp(pred))))))\n",
    "print('train r2: {}'.format(\n",
    "    r2_score(np.exp(y_train), np.exp(pred))))\n",
    "print()\n",
    "\n",
    "# make predictions for test set\n",
    "pred = l2.predict(X_test)\n",
    "\n",
    "# determine mse and rmse\n",
    "print('test mse: {}'.format(int(\n",
    "    mean_squared_error(np.exp(y_test), np.exp(pred)))))\n",
    "print('test rmse: {}'.format(int(\n",
    "    sqrt(mean_squared_error(np.exp(y_test), np.exp(pred))))))\n",
    "print('test r2: {}'.format(\n",
    "    r2_score(np.exp(y_test), np.exp(pred))))\n",
    "print()"
   ]
  },
  {
   "cell_type": "code",
   "execution_count": 20,
   "metadata": {},
   "outputs": [
    {
     "data": {
      "text/plain": [
       "Text(0.5, 1.0, 'Evaluation of Rdige Regression Predictions')"
      ]
     },
     "execution_count": 20,
     "metadata": {},
     "output_type": "execute_result"
    },
    {
     "data": {
      "image/png": "[encoded data removed]",
      "text/plain": [
       "<Figure size 432x288 with 1 Axes>"
      ]
     },
     "metadata": {
      "needs_background": "light"
     },
     "output_type": "display_data"
    }
   ],
   "source": [
    "# evaluate the predictions respect to the real values\n",
    "plt.scatter(y_test, l2.predict(X_test))\n",
    "plt.xlabel('True Price')\n",
    "plt.ylabel('Predicted Price')\n",
    "plt.title('Evaluation of Rdige Regression Predictions')"
   ]
  },
  {
   "cell_type": "markdown",
   "metadata": {},
   "source": [
    "### Support Vector Regression (SVR)"
   ]
  },
  {
   "cell_type": "code",
   "execution_count": 21,
   "metadata": {},
   "outputs": [
    {
     "data": {
      "text/plain": [
       "SVR()"
      ]
     },
     "execution_count": 21,
     "metadata": {},
     "output_type": "execute_result"
    }
   ],
   "source": [
    "svr = SVR(kernel='rbf')\n",
    "svr.fit(X_train, y_train)"
   ]
  },
  {
   "cell_type": "code",
   "execution_count": 22,
   "metadata": {},
   "outputs": [
    {
     "name": "stdout",
     "output_type": "stream",
     "text": [
      "train mse: 292804\n",
      "train rmse: 541\n",
      "train r2: 0.7669719635174365\n",
      "\n",
      "test mse: 429965\n",
      "test rmse: 655\n",
      "test r2: 0.7017944385482556\n",
      "\n"
     ]
    }
   ],
   "source": [
    "# evaluate the model\n",
    "\n",
    "# transform target and predictions (log) back to original\n",
    "\n",
    "# we evaluate using the mean squared error,\n",
    "# the root of the mean squared error, and r2\n",
    "\n",
    "# make predictions for train set\n",
    "pred = svr.predict(X_train)\n",
    "\n",
    "# determine mse and rmse\n",
    "print('train mse: {}'.format(int(\n",
    "    mean_squared_error(np.exp(y_train), np.exp(pred)))))\n",
    "print('train rmse: {}'.format(int(\n",
    "    sqrt(mean_squared_error(np.exp(y_train), np.exp(pred))))))\n",
    "print('train r2: {}'.format(\n",
    "    r2_score(np.exp(y_train), np.exp(pred))))\n",
    "print()\n",
    "\n",
    "# make predictions for test set\n",
    "pred = svr.predict(X_test)\n",
    "\n",
    "# determine mse and rmse\n",
    "print('test mse: {}'.format(int(\n",
    "    mean_squared_error(np.exp(y_test), np.exp(pred)))))\n",
    "print('test rmse: {}'.format(int(\n",
    "    sqrt(mean_squared_error(np.exp(y_test), np.exp(pred))))))\n",
    "print('test r2: {}'.format(\n",
    "    r2_score(np.exp(y_test), np.exp(pred))))\n",
    "print()"
   ]
  },
  {
   "cell_type": "code",
   "execution_count": 23,
   "metadata": {},
   "outputs": [
    {
     "data": {
      "text/plain": [
       "Text(0.5, 1.0, 'Evaluation of SVR Predictions')"
      ]
     },
     "execution_count": 23,
     "metadata": {},
     "output_type": "execute_result"
    },
    {
     "data": {
      "image/png": "[encoded data removed]",
      "text/plain": [
       "<Figure size 432x288 with 1 Axes>"
      ]
     },
     "metadata": {
      "needs_background": "light"
     },
     "output_type": "display_data"
    }
   ],
   "source": [
    "# evaluate the predictions respect to the real values\n",
    "plt.scatter(y_test, svr.predict(X_test))\n",
    "plt.xlabel('True Price')\n",
    "plt.ylabel('Predicted Price')\n",
    "plt.title('Evaluation of SVR Predictions')"
   ]
  },
  {
   "cell_type": "code",
   "execution_count": 24,
   "metadata": {},
   "outputs": [
    {
     "data": {
      "text/plain": [
       "<matplotlib.axes._subplots.AxesSubplot at 0x21b13de6fd0>"
      ]
     },
     "execution_count": 24,
     "metadata": {},
     "output_type": "execute_result"
    },
    {
     "data": {
      "image/png": "[encoded data removed]",
      "text/plain": [
       "<Figure size 432x288 with 1 Axes>"
      ]
     },
     "metadata": {
      "needs_background": "light"
     },
     "output_type": "display_data"
    }
   ],
   "source": [
    "# evaluate the distribution of the errors:\n",
    "# they should be fairly normally distributed\n",
    "\n",
    "errors = y_test - svr.predict(X_test)\n",
    "errors.hist(bins=30)"
   ]
  },
  {
   "cell_type": "markdown",
   "metadata": {},
   "source": [
    "### Decision Tree Regression"
   ]
  },
  {
   "cell_type": "code",
   "execution_count": 25,
   "metadata": {},
   "outputs": [
    {
     "data": {
      "text/plain": [
       "DecisionTreeRegressor(random_state=0)"
      ]
     },
     "execution_count": 25,
     "metadata": {},
     "output_type": "execute_result"
    }
   ],
   "source": [
    "dt = DecisionTreeRegressor(random_state=0)\n",
    "dt.fit(X_train, y_train)"
   ]
  },
  {
   "cell_type": "code",
   "execution_count": 26,
   "metadata": {},
   "outputs": [
    {
     "name": "stdout",
     "output_type": "stream",
     "text": [
      "train mse: 25861\n",
      "train rmse: 160\n",
      "train r2: 0.9794181029263175\n",
      "\n",
      "test mse: 454145\n",
      "test rmse: 673\n",
      "test r2: 0.6850241089221445\n",
      "\n"
     ]
    }
   ],
   "source": [
    "# evaluate the model\n",
    "\n",
    "# transform target and predictions (log) back to original\n",
    "\n",
    "# we evaluate using the mean squared error,\n",
    "# the root of the mean squared error, and r2\n",
    "\n",
    "# make predictions for train set\n",
    "pred = dt.predict(X_train)\n",
    "\n",
    "# determine mse and rmse\n",
    "print('train mse: {}'.format(int(\n",
    "    mean_squared_error(np.exp(y_train), np.exp(pred)))))\n",
    "print('train rmse: {}'.format(int(\n",
    "    sqrt(mean_squared_error(np.exp(y_train), np.exp(pred))))))\n",
    "print('train r2: {}'.format(\n",
    "    r2_score(np.exp(y_train), np.exp(pred))))\n",
    "print()\n",
    "\n",
    "# make predictions for test set\n",
    "pred = dt.predict(X_test)\n",
    "\n",
    "# determine mse and rmse\n",
    "print('test mse: {}'.format(int(\n",
    "    mean_squared_error(np.exp(y_test), np.exp(pred)))))\n",
    "print('test rmse: {}'.format(int(\n",
    "    sqrt(mean_squared_error(np.exp(y_test), np.exp(pred))))))\n",
    "print('test r2: {}'.format(\n",
    "    r2_score(np.exp(y_test), np.exp(pred))))\n",
    "print()"
   ]
  },
  {
   "cell_type": "code",
   "execution_count": 27,
   "metadata": {},
   "outputs": [
    {
     "data": {
      "text/plain": [
       "Text(0.5, 1.0, 'Evaluation of Decision Tree Regression Predictions')"
      ]
     },
     "execution_count": 27,
     "metadata": {},
     "output_type": "execute_result"
    },
    {
     "data": {
      "image/png": "[encoded data removed]",
      "text/plain": [
       "<Figure size 432x288 with 1 Axes>"
      ]
     },
     "metadata": {
      "needs_background": "light"
     },
     "output_type": "display_data"
    }
   ],
   "source": [
    "# evaluate the predictions respect to the real values\n",
    "plt.scatter(y_test, dt.predict(X_test))\n",
    "plt.xlabel('True Price')\n",
    "plt.ylabel('Predicted Price')\n",
    "plt.title('Evaluation of Decision Tree Regression Predictions')"
   ]
  },
  {
   "cell_type": "markdown",
   "metadata": {},
   "source": [
    "### Random Forest"
   ]
  },
  {
   "cell_type": "code",
   "execution_count": 28,
   "metadata": {},
   "outputs": [
    {
     "data": {
      "text/plain": [
       "RandomForestRegressor()"
      ]
     },
     "execution_count": 28,
     "metadata": {},
     "output_type": "execute_result"
    }
   ],
   "source": [
    "rf = RandomForestRegressor()\n",
    "rf.fit(X_train, y_train)"
   ]
  },
  {
   "cell_type": "code",
   "execution_count": 29,
   "metadata": {},
   "outputs": [
    {
     "name": "stdout",
     "output_type": "stream",
     "text": [
      "train mse: 61470\n",
      "train rmse: 247\n",
      "train r2: 0.9510785327817023\n",
      "\n",
      "test mse: 303797\n",
      "test rmse: 551\n",
      "test r2: 0.7892992491601716\n",
      "\n"
     ]
    }
   ],
   "source": [
    "# evaluate the model\n",
    "\n",
    "# transform target and predictions (log) back to original\n",
    "\n",
    "# we evaluate using the mean squared error,\n",
    "# the root of the mean squared error, and r2\n",
    "\n",
    "# make predictions for train set\n",
    "pred = rf.predict(X_train)\n",
    "\n",
    "# determine mse and rmse\n",
    "print('train mse: {}'.format(int(\n",
    "    mean_squared_error(np.exp(y_train), np.exp(pred)))))\n",
    "print('train rmse: {}'.format(int(\n",
    "    sqrt(mean_squared_error(np.exp(y_train), np.exp(pred))))))\n",
    "print('train r2: {}'.format(\n",
    "    r2_score(np.exp(y_train), np.exp(pred))))\n",
    "print()\n",
    "\n",
    "# make predictions for test set\n",
    "pred = rf.predict(X_test)\n",
    "\n",
    "# determine mse and rmse\n",
    "print('test mse: {}'.format(int(\n",
    "    mean_squared_error(np.exp(y_test), np.exp(pred)))))\n",
    "print('test rmse: {}'.format(int(\n",
    "    sqrt(mean_squared_error(np.exp(y_test), np.exp(pred))))))\n",
    "print('test r2: {}'.format(\n",
    "    r2_score(np.exp(y_test), np.exp(pred))))\n",
    "print()"
   ]
  },
  {
   "cell_type": "code",
   "execution_count": 30,
   "metadata": {},
   "outputs": [
    {
     "data": {
      "text/plain": [
       "Text(0.5, 1.0, 'Evaluation of Random Forest Regression Predictions')"
      ]
     },
     "execution_count": 30,
     "metadata": {},
     "output_type": "execute_result"
    },
    {
     "data": {
      "image/png": "[encoded data removed]",
      "text/plain": [
       "<Figure size 432x288 with 1 Axes>"
      ]
     },
     "metadata": {
      "needs_background": "light"
     },
     "output_type": "display_data"
    }
   ],
   "source": [
    "# evaluate the predictions respect to the real values\n",
    "plt.scatter(y_test, rf.predict(X_test))\n",
    "plt.xlabel('True Price')\n",
    "plt.ylabel('Predicted Price')\n",
    "plt.title('Evaluation of Random Forest Regression Predictions')"
   ]
  },
  {
   "cell_type": "code",
   "execution_count": 31,
   "metadata": {},
   "outputs": [
    {
     "data": {
      "text/plain": [
       "<matplotlib.axes._subplots.AxesSubplot at 0x21b151277f0>"
      ]
     },
     "execution_count": 31,
     "metadata": {},
     "output_type": "execute_result"
    },
    {
     "data": {
      "image/png": "[encoded data removed]",
      "text/plain": [
       "<Figure size 432x288 with 1 Axes>"
      ]
     },
     "metadata": {
      "needs_background": "light"
     },
     "output_type": "display_data"
    }
   ],
   "source": [
    "# evaluate the distribution of the errors:\n",
    "# they should be fairly normally distributed\n",
    "\n",
    "errors = y_test - rf.predict(X_test)\n",
    "errors.hist(bins=30)"
   ]
  },
  {
   "cell_type": "markdown",
   "metadata": {},
   "source": [
    "### GridSearchCV"
   ]
  },
  {
   "cell_type": "code",
   "execution_count": 32,
   "metadata": {},
   "outputs": [],
   "source": [
    "from sklearn.model_selection import GridSearchCV\n",
    "parameters = {'n_estimators':range(10,300,10), 'criterion':('mse','rmse'), 'max_features':('auto','sqrt','log2')}"
   ]
  },
  {
   "cell_type": "code",
   "execution_count": 33,
   "metadata": {},
   "outputs": [
    {
     "data": {
      "text/plain": [
       "GridSearchCV(cv=3, estimator=RandomForestRegressor(),\n",
       "             param_grid={'criterion': ('mse', 'rmse'),\n",
       "                         'max_features': ('auto', 'sqrt', 'log2'),\n",
       "                         'n_estimators': range(10, 300, 10)},\n",
       "             scoring='neg_root_mean_squared_error')"
      ]
     },
     "execution_count": 33,
     "metadata": {},
     "output_type": "execute_result"
    }
   ],
   "source": [
    "gs = GridSearchCV(rf,parameters,scoring='neg_root_mean_squared_error',cv=3, )\n",
    "gs.fit(X_train,y_train)"
   ]
  },
  {
   "cell_type": "code",
   "execution_count": 34,
   "metadata": {},
   "outputs": [
    {
     "data": {
      "text/plain": [
       "{'criterion': 'mse', 'max_features': 'log2', 'n_estimators': 200}"
      ]
     },
     "execution_count": 34,
     "metadata": {},
     "output_type": "execute_result"
    }
   ],
   "source": [
    "gs.best_params_"
   ]
  },
  {
   "cell_type": "code",
   "execution_count": 35,
   "metadata": {},
   "outputs": [
    {
     "data": {
      "text/plain": [
       "RandomForestRegressor(max_features='log2', n_estimators=200)"
      ]
     },
     "execution_count": 35,
     "metadata": {},
     "output_type": "execute_result"
    }
   ],
   "source": [
    "gs.best_estimator_"
   ]
  },
  {
   "cell_type": "code",
   "execution_count": 36,
   "metadata": {},
   "outputs": [
    {
     "data": {
      "text/plain": [
       "-0.1869799434790885"
      ]
     },
     "execution_count": 36,
     "metadata": {},
     "output_type": "execute_result"
    }
   ],
   "source": [
    "gs.best_score_"
   ]
  }
 ],
 "metadata": {
  "kernelspec": {
   "display_name": "Python 3",
   "language": "python",
   "name": "python3"
  },
  "language_info": {
   "codemirror_mode": {
    "name": "ipython",
    "version": 3
   },
   "file_extension": ".py",
   "mimetype": "text/x-python",
   "name": "python",
   "nbconvert_exporter": "python",
   "pygments_lexer": "ipython3",
   "version": "3.7.3"
  }
 },
 "nbformat": 4,
 "nbformat_minor": 2
}
